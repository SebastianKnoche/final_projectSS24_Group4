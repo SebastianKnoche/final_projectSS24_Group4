{
 "cells": [
  {
   "cell_type": "markdown",
   "id": "3ab5a802-e3fb-41f8-b606-4ebf712b6403",
   "metadata": {
    "editable": true,
    "slideshow": {
     "slide_type": "slide"
    },
    "tags": []
   },
   "source": [
    "## Einführung in Python für Data Analytics\n",
    "# Abschlussprojekt\n",
    "### Dozent:\n",
    "### Dr. Alessandro Bramucci\n",
    "### Bearbeitung und Präsentation:\n",
    "### Jonathan Willrich, Gregor Henning, Sebastian Knoche"
   ]
  },
  {
   "cell_type": "markdown",
   "id": "dfef46c8-3334-4dff-8a6a-db76c2cb6d04",
   "metadata": {
    "editable": true,
    "slideshow": {
     "slide_type": "skip"
    },
    "tags": []
   },
   "source": [
    "# Importieren der Bibliotheken"
   ]
  },
  {
   "cell_type": "code",
   "execution_count": 1,
   "id": "ec269be2-0798-4801-b975-4aaf3e1203c9",
   "metadata": {
    "editable": true,
    "slideshow": {
     "slide_type": "skip"
    },
    "tags": []
   },
   "outputs": [],
   "source": [
    "import pandas as pd\n",
    "import numpy as np\n",
    "import matplotlib.pyplot as plt\n",
    "from statsmodels.stats.weightstats import ttest_ind as my_ttest\n",
    "import statsmodels.api as sm\n",
    "from IPython.core.display import HTML as my_html\n",
    "import seaborn as sns"
   ]
  },
  {
   "cell_type": "code",
   "execution_count": 2,
   "id": "83b68aaf-5537-4e65-9249-37801456560d",
   "metadata": {
    "editable": true,
    "slideshow": {
     "slide_type": "skip"
    },
    "tags": []
   },
   "outputs": [],
   "source": [
    "# Seaborn-Stil festlegen\n",
    "sns.set(style=\"whitegrid\")"
   ]
  },
  {
   "cell_type": "code",
   "execution_count": 3,
   "id": "62dffd82-5a88-499e-83c8-2b0eb323294b",
   "metadata": {
    "editable": true,
    "slideshow": {
     "slide_type": "skip"
    },
    "tags": []
   },
   "outputs": [],
   "source": [
    "# Hilfsfunktion zur besseren Darstellung der Ausgaben\n",
    "    \n",
    "def pandas_to_html(pandas_obj, titel='Tabelle als HTML'):\n",
    "    # Konvertiert eine pandas Series oder ein pandas DataFrame in eine HTML-Tabelle.\n",
    "\n",
    "    # Überprüfen, ob das Objekt eine Series oder ein DataFrame ist\n",
    "    if isinstance(pandas_obj, pd.Series):\n",
    "         # Series in DataFrame umwandeln und Spaltennamen ableiten\n",
    "        tmp_df = pandas_obj.to_frame(name=pandas_obj.name or 'Werte')\n",
    "        if tmp_df.index.name is None:\n",
    "            tmp_df.index.name = 'Index'\n",
    "        html_table = tmp_df.reset_index().to_html(index=False)\n",
    "    elif isinstance(pandas_obj, pd.DataFrame):\n",
    "        html_table = pandas_obj.to_html()\n",
    "    else:\n",
    "        raise ValueError('Das übergebene Objekt ist weder eine pandas Series noch ein DataFrame.')\n",
    "    \n",
    "    # CSS-Style hinzufügen\n",
    "    css = '''\n",
    "    <style>\n",
    "        table {\n",
    "            margin: 1px 0;\n",
    "            font-size: 10px;\n",
    "            text-align: left;\n",
    "        }\n",
    "        th, td {\n",
    "            border: 1px solid #ddd;\n",
    "            padding: 1px;\n",
    "        }\n",
    "        th {\n",
    "            background-color: #f2f2f2;\n",
    "            color: black;\n",
    "        }\n",
    "    </style>\n",
    "    '''\n",
    "    \n",
    "    return f'''\n",
    "    {css}\n",
    "    <h3>{titel}</h3>\n",
    "    {html_table}\n",
    "    '''"
   ]
  },
  {
   "cell_type": "markdown",
   "id": "80b72c68-cf63-4c67-bc79-315fa5c33a13",
   "metadata": {
    "editable": true,
    "slideshow": {
     "slide_type": "slide"
    },
    "tags": []
   },
   "source": [
    "# Importieren der Daten"
   ]
  },
  {
   "cell_type": "markdown",
   "id": "a966ed4d-1880-455b-82bc-dddfaa0a849b",
   "metadata": {
    "editable": true,
    "slideshow": {
     "slide_type": "subslide"
    },
    "tags": []
   },
   "source": [
    "```python\n",
    "# speichere den relativen Pfad und den Dateinamen der Quelle \n",
    "file_besucher = 'data/besucher.csv'\n",
    "file_geo = 'data/geo.txt'\n",
    "file_kunden = 'data/kunden.csv'\n",
    "\n",
    "# importiere Daten aus der Quelle in Dataframes\n",
    "df_besucher = pd.read_csv(file_besucher, sep=\";\", decimal = ',')\n",
    "df_geo = pd.read_table(file_geo, decimal = '.')\n",
    "df_kunden = pd.read_csv(file_kunden, sep=\";\", decimal = '.')\n",
    "```"
   ]
  },
  {
   "cell_type": "code",
   "execution_count": 4,
   "id": "7be948be-420b-46e7-a37b-9cc38a174e46",
   "metadata": {
    "editable": true,
    "slideshow": {
     "slide_type": "skip"
    },
    "tags": []
   },
   "outputs": [],
   "source": [
    "# speichere den relativen Pfad und den Dateinamen der Quelle \n",
    "file_besucher = 'data/besucher.csv'\n",
    "file_geo = 'data/geo.txt'\n",
    "file_kunden = 'data/kunden.csv'\n",
    "\n",
    "# importiere Daten aus der Quelle in Dataframes\n",
    "df_besucher = pd.read_csv(file_besucher, sep=\";\", decimal = ',')\n",
    "df_geo = pd.read_table(file_geo, decimal = '.')\n",
    "df_kunden = pd.read_csv(file_kunden, sep=\";\", decimal = '.')"
   ]
  },
  {
   "cell_type": "markdown",
   "id": "e703709e-6c10-4c43-8903-30da8a64392e",
   "metadata": {
    "editable": true,
    "slideshow": {
     "slide_type": "slide"
    },
    "tags": []
   },
   "source": [
    "# Bereinigen der Daten"
   ]
  },
  {
   "cell_type": "markdown",
   "id": "5df18834-ec32-4a9e-bd8d-4b185cab16b7",
   "metadata": {
    "editable": true,
    "slideshow": {
     "slide_type": "subslide"
    },
    "tags": []
   },
   "source": [
    "## Analyse von df_besucher"
   ]
  },
  {
   "cell_type": "code",
   "execution_count": 5,
   "id": "bb19aec3-4219-46b7-93b8-89757e332264",
   "metadata": {
    "slideshow": {
     "slide_type": "fragment"
    },
    "tags": []
   },
   "outputs": [
    {
     "data": {
      "text/html": [
       "\n",
       "    \n",
       "    <style>\n",
       "        table {\n",
       "            margin: 1px 0;\n",
       "            font-size: 10px;\n",
       "            text-align: left;\n",
       "        }\n",
       "        th, td {\n",
       "            border: 1px solid #ddd;\n",
       "            padding: 1px;\n",
       "        }\n",
       "        th {\n",
       "            background-color: #f2f2f2;\n",
       "            color: black;\n",
       "        }\n",
       "    </style>\n",
       "    \n",
       "    <h3>Anzahl fehlender Werte</h3>\n",
       "    <table border=\"1\" class=\"dataframe\">\n",
       "  <thead>\n",
       "    <tr style=\"text-align: right;\">\n",
       "      <th>Index</th>\n",
       "      <th>Werte</th>\n",
       "    </tr>\n",
       "  </thead>\n",
       "  <tbody>\n",
       "    <tr>\n",
       "      <td>Alter</td>\n",
       "      <td>0</td>\n",
       "    </tr>\n",
       "    <tr>\n",
       "      <td>Einkommen</td>\n",
       "      <td>0</td>\n",
       "    </tr>\n",
       "    <tr>\n",
       "      <td>Geschlecht</td>\n",
       "      <td>0</td>\n",
       "    </tr>\n",
       "    <tr>\n",
       "      <td>Zeit</td>\n",
       "      <td>0</td>\n",
       "    </tr>\n",
       "    <tr>\n",
       "      <td>KundeNr</td>\n",
       "      <td>0</td>\n",
       "    </tr>\n",
       "  </tbody>\n",
       "</table>\n",
       "    "
      ],
      "text/plain": [
       "<IPython.core.display.HTML object>"
      ]
     },
     "metadata": {},
     "output_type": "display_data"
    }
   ],
   "source": [
    "html_ausgabe = pandas_to_html(df_besucher.isnull().sum(), 'Anzahl fehlender Werte')\n",
    "display(my_html(html_ausgabe))"
   ]
  },
  {
   "cell_type": "code",
   "execution_count": 6,
   "id": "af9ad026-d070-4c62-acc5-5e8023d7f81d",
   "metadata": {
    "slideshow": {
     "slide_type": "fragment"
    },
    "tags": []
   },
   "outputs": [
    {
     "data": {
      "text/html": [
       "\n",
       "    \n",
       "    <style>\n",
       "        table {\n",
       "            margin: 1px 0;\n",
       "            font-size: 10px;\n",
       "            text-align: left;\n",
       "        }\n",
       "        th, td {\n",
       "            border: 1px solid #ddd;\n",
       "            padding: 1px;\n",
       "        }\n",
       "        th {\n",
       "            background-color: #f2f2f2;\n",
       "            color: black;\n",
       "        }\n",
       "    </style>\n",
       "    \n",
       "    <h3>Datentypen</h3>\n",
       "    <table border=\"1\" class=\"dataframe\">\n",
       "  <thead>\n",
       "    <tr style=\"text-align: right;\">\n",
       "      <th>Index</th>\n",
       "      <th>Werte</th>\n",
       "    </tr>\n",
       "  </thead>\n",
       "  <tbody>\n",
       "    <tr>\n",
       "      <td>Alter</td>\n",
       "      <td>int64</td>\n",
       "    </tr>\n",
       "    <tr>\n",
       "      <td>Einkommen</td>\n",
       "      <td>float64</td>\n",
       "    </tr>\n",
       "    <tr>\n",
       "      <td>Geschlecht</td>\n",
       "      <td>int64</td>\n",
       "    </tr>\n",
       "    <tr>\n",
       "      <td>Zeit</td>\n",
       "      <td>float64</td>\n",
       "    </tr>\n",
       "    <tr>\n",
       "      <td>KundeNr</td>\n",
       "      <td>object</td>\n",
       "    </tr>\n",
       "  </tbody>\n",
       "</table>\n",
       "    "
      ],
      "text/plain": [
       "<IPython.core.display.HTML object>"
      ]
     },
     "metadata": {},
     "output_type": "display_data"
    }
   ],
   "source": [
    "html_ausgabe = pandas_to_html(df_besucher.dtypes, 'Datentypen')\n",
    "display(my_html(html_ausgabe))"
   ]
  },
  {
   "cell_type": "code",
   "execution_count": 7,
   "id": "461983f4-072f-4d5d-85f1-e51a9a8daa20",
   "metadata": {
    "slideshow": {
     "slide_type": "subslide"
    },
    "tags": []
   },
   "outputs": [
    {
     "data": {
      "text/html": [
       "\n",
       "    \n",
       "    <style>\n",
       "        table {\n",
       "            margin: 1px 0;\n",
       "            font-size: 10px;\n",
       "            text-align: left;\n",
       "        }\n",
       "        th, td {\n",
       "            border: 1px solid #ddd;\n",
       "            padding: 1px;\n",
       "        }\n",
       "        th {\n",
       "            background-color: #f2f2f2;\n",
       "            color: black;\n",
       "        }\n",
       "    </style>\n",
       "    \n",
       "    <h3>Vorschau df_besucher</h3>\n",
       "    <table border=\"1\" class=\"dataframe\">\n",
       "  <thead>\n",
       "    <tr style=\"text-align: right;\">\n",
       "      <th>Index</th>\n",
       "      <th>Alter</th>\n",
       "      <th>Einkommen</th>\n",
       "      <th>Geschlecht</th>\n",
       "      <th>Zeit</th>\n",
       "      <th>KundeNr</th>\n",
       "    </tr>\n",
       "  </thead>\n",
       "  <tbody>\n",
       "    <tr>\n",
       "      <th>0</th>\n",
       "      <td>30</td>\n",
       "      <td>39919.095335</td>\n",
       "      <td>0</td>\n",
       "      <td>29.0</td>\n",
       "      <td>K1814</td>\n",
       "    </tr>\n",
       "    <tr>\n",
       "      <th>1</th>\n",
       "      <td>41</td>\n",
       "      <td>53430.673086</td>\n",
       "      <td>0</td>\n",
       "      <td>27.0</td>\n",
       "      <td>K1544</td>\n",
       "    </tr>\n",
       "    <tr>\n",
       "      <th>2</th>\n",
       "      <td>64</td>\n",
       "      <td>73163.216927</td>\n",
       "      <td>0</td>\n",
       "      <td>32.0</td>\n",
       "      <td>K1945</td>\n",
       "    </tr>\n",
       "    <tr>\n",
       "      <th>3</th>\n",
       "      <td>41</td>\n",
       "      <td>36761.482581</td>\n",
       "      <td>0</td>\n",
       "      <td>44.0</td>\n",
       "      <td>K1825</td>\n",
       "    </tr>\n",
       "    <tr>\n",
       "      <th>4</th>\n",
       "      <td>35</td>\n",
       "      <td>42684.331632</td>\n",
       "      <td>1</td>\n",
       "      <td>33.0</td>\n",
       "      <td>K1144</td>\n",
       "    </tr>\n",
       "  </tbody>\n",
       "</table>\n",
       "    "
      ],
      "text/plain": [
       "<IPython.core.display.HTML object>"
      ]
     },
     "metadata": {},
     "output_type": "display_data"
    }
   ],
   "source": [
    "html_ausgabe = pandas_to_html(df_besucher.head(5), 'Vorschau df_besucher')\n",
    "display(my_html(html_ausgabe))"
   ]
  },
  {
   "cell_type": "markdown",
   "id": "bf77f15a-5e19-4811-90d3-94342494d9a6",
   "metadata": {
    "slideshow": {
     "slide_type": "subslide"
    },
    "tags": []
   },
   "source": [
    "## Datenmodelierung für df_besucher"
   ]
  },
  {
   "cell_type": "markdown",
   "id": "05c3c06c-b082-4e11-abc5-c35233c7d00a",
   "metadata": {
    "slideshow": {
     "slide_type": "fragment"
    },
    "tags": []
   },
   "source": [
    "```python\n",
    "# Um das spätere Zusammenführen zu erleichtern, sind folgende Anpassungen hilfreich:\n",
    "\n",
    "# Füge eine Spalte \"Kunde\" hinzu, die für Besucher den Wert 0 enthält.\n",
    "df_besucher['Kunde'] = 0\n",
    "\n",
    "# Füge die Spalte \"Preis\" hinzu und setze die Werte auf 0\n",
    "df_besucher.insert(2, 'Preis', 0)\n",
    "\n",
    "# Füge die Spalte \"Ausreißer\" hinzu und setze die Werte auf False\n",
    "df_besucher.insert(6, 'Ausreißer', False)\n",
    "```"
   ]
  },
  {
   "cell_type": "code",
   "execution_count": 8,
   "id": "36699c36-735d-4ee8-b599-c49f1f185bb1",
   "metadata": {
    "slideshow": {
     "slide_type": "skip"
    },
    "tags": []
   },
   "outputs": [],
   "source": [
    "# Um das spätere Zusammenführen zu erleichtern, sind folgende Anpassungen hilfreich:\n",
    "\n",
    "# Füge eine Spalte \"Kunde\" hinzu, die für Besucher den Wert 0 enthält.\n",
    "df_besucher['Kunde'] = 0\n",
    "\n",
    "# Füge die Spalte \"Preis\" hinzu und setze die Werte auf 0\n",
    "df_besucher.insert(2, 'Preis', 0)\n",
    "\n",
    "# Füge die Spalte \"Ausreißer\" hinzu und setze die Werte auf False\n",
    "df_besucher.insert(6, 'Ausreißer', False)"
   ]
  },
  {
   "cell_type": "markdown",
   "id": "aa6c5f48-b682-4e3a-adec-04223e3f2339",
   "metadata": {
    "slideshow": {
     "slide_type": "subslide"
    },
    "tags": []
   },
   "source": [
    "## Analyse von df_geo"
   ]
  },
  {
   "cell_type": "code",
   "execution_count": 9,
   "id": "c7b063ed-5593-443c-b0a1-a5e1c30c079c",
   "metadata": {
    "slideshow": {
     "slide_type": "fragment"
    },
    "tags": []
   },
   "outputs": [
    {
     "data": {
      "text/html": [
       "\n",
       "    \n",
       "    <style>\n",
       "        table {\n",
       "            margin: 1px 0;\n",
       "            font-size: 10px;\n",
       "            text-align: left;\n",
       "        }\n",
       "        th, td {\n",
       "            border: 1px solid #ddd;\n",
       "            padding: 1px;\n",
       "        }\n",
       "        th {\n",
       "            background-color: #f2f2f2;\n",
       "            color: black;\n",
       "        }\n",
       "    </style>\n",
       "    \n",
       "    <h3>Anzahl fehlender Werte</h3>\n",
       "    <table border=\"1\" class=\"dataframe\">\n",
       "  <thead>\n",
       "    <tr style=\"text-align: right;\">\n",
       "      <th>Index</th>\n",
       "      <th>Werte</th>\n",
       "    </tr>\n",
       "  </thead>\n",
       "  <tbody>\n",
       "    <tr>\n",
       "      <td>KundeNr</td>\n",
       "      <td>0</td>\n",
       "    </tr>\n",
       "    <tr>\n",
       "      <td>Niederlassung</td>\n",
       "      <td>0</td>\n",
       "    </tr>\n",
       "  </tbody>\n",
       "</table>\n",
       "    "
      ],
      "text/plain": [
       "<IPython.core.display.HTML object>"
      ]
     },
     "metadata": {},
     "output_type": "display_data"
    }
   ],
   "source": [
    "html_ausgabe = pandas_to_html(df_geo.isnull().sum(), 'Anzahl fehlender Werte')\n",
    "display(my_html(html_ausgabe))"
   ]
  },
  {
   "cell_type": "code",
   "execution_count": 10,
   "id": "a774059c-2a05-40c5-a57e-71adee07ab58",
   "metadata": {
    "slideshow": {
     "slide_type": "fragment"
    },
    "tags": []
   },
   "outputs": [
    {
     "data": {
      "text/html": [
       "\n",
       "    \n",
       "    <style>\n",
       "        table {\n",
       "            margin: 1px 0;\n",
       "            font-size: 10px;\n",
       "            text-align: left;\n",
       "        }\n",
       "        th, td {\n",
       "            border: 1px solid #ddd;\n",
       "            padding: 1px;\n",
       "        }\n",
       "        th {\n",
       "            background-color: #f2f2f2;\n",
       "            color: black;\n",
       "        }\n",
       "    </style>\n",
       "    \n",
       "    <h3>Datentypen</h3>\n",
       "    <table border=\"1\" class=\"dataframe\">\n",
       "  <thead>\n",
       "    <tr style=\"text-align: right;\">\n",
       "      <th>Index</th>\n",
       "      <th>Werte</th>\n",
       "    </tr>\n",
       "  </thead>\n",
       "  <tbody>\n",
       "    <tr>\n",
       "      <td>KundeNr</td>\n",
       "      <td>object</td>\n",
       "    </tr>\n",
       "    <tr>\n",
       "      <td>Niederlassung</td>\n",
       "      <td>object</td>\n",
       "    </tr>\n",
       "  </tbody>\n",
       "</table>\n",
       "    "
      ],
      "text/plain": [
       "<IPython.core.display.HTML object>"
      ]
     },
     "metadata": {},
     "output_type": "display_data"
    }
   ],
   "source": [
    "html_ausgabe = pandas_to_html(df_geo.dtypes, 'Datentypen')\n",
    "display(my_html(html_ausgabe))"
   ]
  },
  {
   "cell_type": "code",
   "execution_count": 11,
   "id": "d9855011-f343-4e2b-9027-ce6862e78700",
   "metadata": {
    "slideshow": {
     "slide_type": "subslide"
    },
    "tags": []
   },
   "outputs": [
    {
     "data": {
      "text/html": [
       "\n",
       "    \n",
       "    <style>\n",
       "        table {\n",
       "            margin: 1px 0;\n",
       "            font-size: 10px;\n",
       "            text-align: left;\n",
       "        }\n",
       "        th, td {\n",
       "            border: 1px solid #ddd;\n",
       "            padding: 1px;\n",
       "        }\n",
       "        th {\n",
       "            background-color: #f2f2f2;\n",
       "            color: black;\n",
       "        }\n",
       "    </style>\n",
       "    \n",
       "    <h3>Vorschau df_geo</h3>\n",
       "    <table border=\"1\" class=\"dataframe\">\n",
       "  <thead>\n",
       "    <tr style=\"text-align: right;\">\n",
       "      <th>Index</th>\n",
       "      <th>KundeNr</th>\n",
       "      <th>Niederlassung</th>\n",
       "    </tr>\n",
       "  </thead>\n",
       "  <tbody>\n",
       "    <tr>\n",
       "      <th>0</th>\n",
       "      <td>K0001</td>\n",
       "      <td>Sachsen</td>\n",
       "    </tr>\n",
       "    <tr>\n",
       "      <th>1</th>\n",
       "      <td>K0002</td>\n",
       "      <td>NRW</td>\n",
       "    </tr>\n",
       "    <tr>\n",
       "      <th>2</th>\n",
       "      <td>K0003</td>\n",
       "      <td>Hessen</td>\n",
       "    </tr>\n",
       "    <tr>\n",
       "      <th>3</th>\n",
       "      <td>K0004</td>\n",
       "      <td>Bayern</td>\n",
       "    </tr>\n",
       "    <tr>\n",
       "      <th>4</th>\n",
       "      <td>K0005</td>\n",
       "      <td>Bayern</td>\n",
       "    </tr>\n",
       "  </tbody>\n",
       "</table>\n",
       "    "
      ],
      "text/plain": [
       "<IPython.core.display.HTML object>"
      ]
     },
     "metadata": {},
     "output_type": "display_data"
    }
   ],
   "source": [
    "html_ausgabe = pandas_to_html(df_geo.head(5), 'Vorschau df_geo')\n",
    "display(my_html(html_ausgabe))"
   ]
  },
  {
   "cell_type": "markdown",
   "id": "72b7e24e-c54b-4314-b90a-cc992f350bf7",
   "metadata": {
    "slideshow": {
     "slide_type": "subslide"
    },
    "tags": []
   },
   "source": [
    "## Datenmodelierung für df_geo"
   ]
  },
  {
   "cell_type": "markdown",
   "id": "a1ffa06d-c4c3-4fe7-a536-8364cccb169a",
   "metadata": {
    "slideshow": {
     "slide_type": "fragment"
    },
    "tags": []
   },
   "source": [
    "```python\n",
    "# Ersetze alle Einträge, die \"NRW\" in der Spalte \"Niederlassung\" enthalten, mit \"Nordrhein-Westfalen\"\n",
    "df_geo['Niederlassung'] = df_geo['Niederlassung'].apply(lambda x: 'Nordrhein-Westfalen' if 'nrw' in x.lower() or 'düsseldorf' in x.lower() else x)\n",
    "\n",
    "# Ersetze alle Einträge, die \"Berlin\" in der Spalte \"Niederlassung\" enthalten, mit \"Berlin\"\n",
    "df_geo['Niederlassung'] = df_geo['Niederlassung'].apply(lambda x: 'Berlin' if 'berlin' in x.lower() else x)\n",
    "```"
   ]
  },
  {
   "cell_type": "code",
   "execution_count": 12,
   "id": "35ffe984-792f-47c2-8fea-227a42215fe6",
   "metadata": {
    "slideshow": {
     "slide_type": "skip"
    },
    "tags": []
   },
   "outputs": [],
   "source": [
    "# Ersetze alle Einträge, die \"NRW\" in der Spalte \"Niederlassung\" enthalten, mit \"Nordrhein-Westfalen\"\n",
    "df_geo['Niederlassung'] = df_geo['Niederlassung'].apply(lambda x: 'Nordrhein-Westfalen' if 'nrw' in x.lower() or 'düsseldorf' in x.lower() else x)\n",
    "\n",
    "# Ersetze alle Einträge, die \"Berlin\" in der Spalte \"Niederlassung\" enthalten, mit \"Berlin\"\n",
    "df_geo['Niederlassung'] = df_geo['Niederlassung'].apply(lambda x: 'Berlin' if 'berlin' in x.lower() else x)"
   ]
  },
  {
   "cell_type": "markdown",
   "id": "3d2ad8d7-af4f-40e4-91ca-00175c0d73b6",
   "metadata": {
    "slideshow": {
     "slide_type": "subslide"
    },
    "tags": []
   },
   "source": [
    "## Analyse von df_kunden"
   ]
  },
  {
   "cell_type": "code",
   "execution_count": 13,
   "id": "9f24220c-9a80-43a5-83b8-1ba0056049ea",
   "metadata": {
    "slideshow": {
     "slide_type": "fragment"
    },
    "tags": []
   },
   "outputs": [
    {
     "data": {
      "text/html": [
       "\n",
       "    \n",
       "    <style>\n",
       "        table {\n",
       "            margin: 1px 0;\n",
       "            font-size: 10px;\n",
       "            text-align: left;\n",
       "        }\n",
       "        th, td {\n",
       "            border: 1px solid #ddd;\n",
       "            padding: 1px;\n",
       "        }\n",
       "        th {\n",
       "            background-color: #f2f2f2;\n",
       "            color: black;\n",
       "        }\n",
       "    </style>\n",
       "    \n",
       "    <h3>Anzahl fehlender Werte</h3>\n",
       "    <table border=\"1\" class=\"dataframe\">\n",
       "  <thead>\n",
       "    <tr style=\"text-align: right;\">\n",
       "      <th>Index</th>\n",
       "      <th>Werte</th>\n",
       "    </tr>\n",
       "  </thead>\n",
       "  <tbody>\n",
       "    <tr>\n",
       "      <td>Alter</td>\n",
       "      <td>0</td>\n",
       "    </tr>\n",
       "    <tr>\n",
       "      <td>Einkommen</td>\n",
       "      <td>0</td>\n",
       "    </tr>\n",
       "    <tr>\n",
       "      <td>Preis</td>\n",
       "      <td>0</td>\n",
       "    </tr>\n",
       "    <tr>\n",
       "      <td>Geschlecht</td>\n",
       "      <td>5</td>\n",
       "    </tr>\n",
       "    <tr>\n",
       "      <td>Zeit</td>\n",
       "      <td>0</td>\n",
       "    </tr>\n",
       "    <tr>\n",
       "      <td>KundeNr</td>\n",
       "      <td>0</td>\n",
       "    </tr>\n",
       "  </tbody>\n",
       "</table>\n",
       "    "
      ],
      "text/plain": [
       "<IPython.core.display.HTML object>"
      ]
     },
     "metadata": {},
     "output_type": "display_data"
    }
   ],
   "source": [
    "html_ausgabe = pandas_to_html(df_kunden.isnull().sum(), 'Anzahl fehlender Werte')\n",
    "display(my_html(html_ausgabe))"
   ]
  },
  {
   "cell_type": "code",
   "execution_count": 14,
   "id": "020714ab-e025-42f0-9323-31cd98d40f40",
   "metadata": {
    "slideshow": {
     "slide_type": "subslide"
    },
    "tags": []
   },
   "outputs": [
    {
     "data": {
      "text/html": [
       "\n",
       "    \n",
       "    <style>\n",
       "        table {\n",
       "            margin: 1px 0;\n",
       "            font-size: 10px;\n",
       "            text-align: left;\n",
       "        }\n",
       "        th, td {\n",
       "            border: 1px solid #ddd;\n",
       "            padding: 1px;\n",
       "        }\n",
       "        th {\n",
       "            background-color: #f2f2f2;\n",
       "            color: black;\n",
       "        }\n",
       "    </style>\n",
       "    \n",
       "    <h3>Datentypen</h3>\n",
       "    <table border=\"1\" class=\"dataframe\">\n",
       "  <thead>\n",
       "    <tr style=\"text-align: right;\">\n",
       "      <th>Index</th>\n",
       "      <th>Werte</th>\n",
       "    </tr>\n",
       "  </thead>\n",
       "  <tbody>\n",
       "    <tr>\n",
       "      <td>Alter</td>\n",
       "      <td>int64</td>\n",
       "    </tr>\n",
       "    <tr>\n",
       "      <td>Einkommen</td>\n",
       "      <td>float64</td>\n",
       "    </tr>\n",
       "    <tr>\n",
       "      <td>Preis</td>\n",
       "      <td>float64</td>\n",
       "    </tr>\n",
       "    <tr>\n",
       "      <td>Geschlecht</td>\n",
       "      <td>float64</td>\n",
       "    </tr>\n",
       "    <tr>\n",
       "      <td>Zeit</td>\n",
       "      <td>float64</td>\n",
       "    </tr>\n",
       "    <tr>\n",
       "      <td>KundeNr</td>\n",
       "      <td>object</td>\n",
       "    </tr>\n",
       "  </tbody>\n",
       "</table>\n",
       "    "
      ],
      "text/plain": [
       "<IPython.core.display.HTML object>"
      ]
     },
     "metadata": {},
     "output_type": "display_data"
    }
   ],
   "source": [
    "html_ausgabe = pandas_to_html(df_kunden.dtypes, 'Datentypen')\n",
    "display(my_html(html_ausgabe))"
   ]
  },
  {
   "cell_type": "code",
   "execution_count": 15,
   "id": "6344fbde-0ac1-444e-971e-52e99c9eb7b0",
   "metadata": {
    "slideshow": {
     "slide_type": "subslide"
    },
    "tags": []
   },
   "outputs": [
    {
     "data": {
      "text/html": [
       "\n",
       "    \n",
       "    <style>\n",
       "        table {\n",
       "            margin: 1px 0;\n",
       "            font-size: 10px;\n",
       "            text-align: left;\n",
       "        }\n",
       "        th, td {\n",
       "            border: 1px solid #ddd;\n",
       "            padding: 1px;\n",
       "        }\n",
       "        th {\n",
       "            background-color: #f2f2f2;\n",
       "            color: black;\n",
       "        }\n",
       "    </style>\n",
       "    \n",
       "    <h3>Vorschau df_kunden</h3>\n",
       "    <table border=\"1\" class=\"dataframe\">\n",
       "  <thead>\n",
       "    <tr style=\"text-align: right;\">\n",
       "      <th>Index</th>\n",
       "      <th>Alter</th>\n",
       "      <th>Einkommen</th>\n",
       "      <th>Preis</th>\n",
       "      <th>Geschlecht</th>\n",
       "      <th>Zeit</th>\n",
       "      <th>KundeNr</th>\n",
       "    </tr>\n",
       "  </thead>\n",
       "  <tbody>\n",
       "    <tr>\n",
       "      <th>0</th>\n",
       "      <td>64</td>\n",
       "      <td>66894.0</td>\n",
       "      <td>88160.31</td>\n",
       "      <td>1.0</td>\n",
       "      <td>43.0</td>\n",
       "      <td>K0310</td>\n",
       "    </tr>\n",
       "    <tr>\n",
       "      <th>1</th>\n",
       "      <td>54</td>\n",
       "      <td>77644.0</td>\n",
       "      <td>103145.70</td>\n",
       "      <td>1.0</td>\n",
       "      <td>40.0</td>\n",
       "      <td>K1042</td>\n",
       "    </tr>\n",
       "    <tr>\n",
       "      <th>2</th>\n",
       "      <td>55</td>\n",
       "      <td>44341.0</td>\n",
       "      <td>80565.16</td>\n",
       "      <td>0.0</td>\n",
       "      <td>37.0</td>\n",
       "      <td>K0382</td>\n",
       "    </tr>\n",
       "    <tr>\n",
       "      <th>3</th>\n",
       "      <td>49</td>\n",
       "      <td>67271.0</td>\n",
       "      <td>83949.89</td>\n",
       "      <td>0.0</td>\n",
       "      <td>42.0</td>\n",
       "      <td>K0498</td>\n",
       "    </tr>\n",
       "    <tr>\n",
       "      <th>4</th>\n",
       "      <td>46</td>\n",
       "      <td>49832.0</td>\n",
       "      <td>93781.58</td>\n",
       "      <td>0.0</td>\n",
       "      <td>41.0</td>\n",
       "      <td>K0552</td>\n",
       "    </tr>\n",
       "  </tbody>\n",
       "</table>\n",
       "    "
      ],
      "text/plain": [
       "<IPython.core.display.HTML object>"
      ]
     },
     "metadata": {},
     "output_type": "display_data"
    }
   ],
   "source": [
    "html_ausgabe = pandas_to_html(df_kunden.head(5), 'Vorschau df_kunden')\n",
    "display(my_html(html_ausgabe))"
   ]
  },
  {
   "cell_type": "markdown",
   "id": "30700f65-9a5d-458e-bc90-a0a609e49365",
   "metadata": {
    "slideshow": {
     "slide_type": "subslide"
    },
    "tags": []
   },
   "source": [
    "## Datenmodelierung für df_kunden"
   ]
  },
  {
   "cell_type": "markdown",
   "id": "c9866b23-88a0-4f62-b925-84b6ddce520e",
   "metadata": {
    "slideshow": {
     "slide_type": "fragment"
    },
    "tags": []
   },
   "source": [
    "```python\n",
    "# Berechne den Modus für die Werte in der Spalte \"Geschlecht\"\n",
    "geschlecht_mode = df_kunden['Geschlecht'].mode()[0]\n",
    "```"
   ]
  },
  {
   "cell_type": "code",
   "execution_count": 16,
   "id": "78c963d7-3f00-4223-a45e-ac607c009141",
   "metadata": {
    "slideshow": {
     "slide_type": "fragment"
    },
    "tags": []
   },
   "outputs": [
    {
     "name": "stdout",
     "output_type": "stream",
     "text": [
      "Der Modus für das Geschlecht ist 1.0.\n"
     ]
    }
   ],
   "source": [
    "# Berechne den Modus für die Werte in der Spalte \"Geschlecht\"\n",
    "geschlecht_mode = df_kunden['Geschlecht'].mode()[0]\n",
    "print(f'Der Modus für das Geschlecht ist {geschlecht_mode}.')"
   ]
  },
  {
   "cell_type": "markdown",
   "id": "08d88723-8861-4a94-b7d6-297d2ffe7a6d",
   "metadata": {
    "slideshow": {
     "slide_type": "fragment"
    },
    "tags": []
   },
   "source": [
    "```python\n",
    "# Ersetze alle leeren Einträge in der Spalte \"Geschlecht\" mit dem Modus der Werte in der Spalte \"Geschlecht\"\n",
    "df_kunden['Geschlecht'].fillna(geschlecht_mode, inplace=True)\n",
    "\n",
    "# Konvertiere die Spalte \"Geschlecht\" in den Integer-Datentyp\n",
    "df_kunden['Geschlecht'] = df_kunden['Geschlecht'].astype(int)\n",
    "```"
   ]
  },
  {
   "cell_type": "code",
   "execution_count": 17,
   "id": "351768da-d05f-47c3-b414-a3e7526382ac",
   "metadata": {
    "slideshow": {
     "slide_type": "skip"
    },
    "tags": []
   },
   "outputs": [],
   "source": [
    "# Ersetze alle leeren Einträge in der Spalte \"Geschlecht\" mit dem Modus der Werte in der Spalte \"Geschlecht\".\n",
    "df_kunden['Geschlecht'].fillna(geschlecht_mode, inplace = True)\n",
    "\n",
    "# Konvertiere die Spalte \"Geschlecht\" in den Integer-Datentyp.\n",
    "df_kunden['Geschlecht'] = df_kunden['Geschlecht'].astype(int)"
   ]
  },
  {
   "cell_type": "markdown",
   "id": "cdf42db0-f7a9-4c5a-b80b-b42ca123dbff",
   "metadata": {
    "slideshow": {
     "slide_type": "fragment"
    },
    "tags": []
   },
   "source": [
    "```python\n",
    "# Füge eine Spalte \"Kunde\" hinzu, die für Kunden den Wert 1 enthält.\n",
    "df_kunden['Kunde'] = 1\n",
    "```"
   ]
  },
  {
   "cell_type": "code",
   "execution_count": 18,
   "id": "90ffb0ef-971f-4830-960f-fba8d40548ac",
   "metadata": {
    "slideshow": {
     "slide_type": "skip"
    },
    "tags": []
   },
   "outputs": [],
   "source": [
    "# Füge eine Spalte \"Kunde\" hinzu, die für Kunden den Wert 1 enthält.\n",
    "df_kunden['Kunde'] = 1"
   ]
  },
  {
   "cell_type": "markdown",
   "id": "6473bca1-b2b2-42ba-b75c-decea1de277d",
   "metadata": {
    "slideshow": {
     "slide_type": "subslide"
    },
    "tags": []
   },
   "source": [
    "## Weitere Datenmodelierung für df_kunden, um Ausreißer zu entfernen"
   ]
  },
  {
   "cell_type": "markdown",
   "id": "8e58e098-ff4e-4fc0-b810-70868dd1b6e1",
   "metadata": {
    "slideshow": {
     "slide_type": "fragment"
    },
    "tags": []
   },
   "source": [
    "```python\n",
    "# Entfernen der Ausreißer in der Spalte \"Einkommen\":\n",
    "# Berechnung von eink_Q1 (25. Perzentil), eink_Q3 (75. Perzentil) und eink_IQR\n",
    "eink_Q1 = df_kunden['Einkommen'].quantile(0.25)\n",
    "eink_Q3 = df_kunden['Einkommen'].quantile(0.75)\n",
    "eink_IQR = eink_Q3 - eink_Q1\n",
    "\n",
    "# Berechnung der Ausreißer-Grenzen\n",
    "eink_untere_grenze = eink_Q1 - 1.5 * eink_IQR\n",
    "eink_obere_grenze = eink_Q3 + 1.5 * eink_IQR\n",
    "\n",
    "# Identifizierung von Ausreißern\n",
    "df_kunden['Ausreißer'] = (df_kunden['Einkommen'] < eink_untere_grenze) | (df_kunden['Einkommen'] > eink_obere_grenze)\n",
    "```"
   ]
  },
  {
   "cell_type": "code",
   "execution_count": 19,
   "id": "028edcda-2fef-4b11-a3e7-1bb17c525634",
   "metadata": {
    "slideshow": {
     "slide_type": "skip"
    },
    "tags": []
   },
   "outputs": [],
   "source": [
    "# Entfernen der Ausreißer in der Spalte \"Einkommen\":\n",
    "# Berechnung von eink_Q1 (25. Perzentil), eink_Q3 (75. Perzentil) und eink_IQR\n",
    "eink_Q1 = df_kunden['Einkommen'].quantile(0.25)\n",
    "eink_Q3 = df_kunden['Einkommen'].quantile(0.75)\n",
    "eink_IQR = eink_Q3 - eink_Q1\n",
    "\n",
    "# Berechnung der Ausreißer-Grenzen\n",
    "eink_untere_grenze = eink_Q1 - 1.5 * eink_IQR\n",
    "eink_obere_grenze = eink_Q3 + 1.5 * eink_IQR\n",
    "\n",
    "# Identifizierung von Ausreißern\n",
    "df_kunden['Ausreißer'] = (df_kunden['Einkommen'] < eink_untere_grenze) | (df_kunden['Einkommen'] > eink_obere_grenze)"
   ]
  },
  {
   "cell_type": "markdown",
   "id": "fdeea5c9-02a9-4232-a33f-fce3bcadb9c8",
   "metadata": {
    "slideshow": {
     "slide_type": "subslide"
    },
    "tags": []
   },
   "source": [
    "```python\n",
    "# Berechne den Median für die Werte in der Spalte \"Einkommen\"\n",
    "eink_median = df_kunden['Einkommen'].median()\n",
    "```"
   ]
  },
  {
   "cell_type": "code",
   "execution_count": 20,
   "id": "0713f26c-b6fc-46fc-93c0-0749a1f3a38a",
   "metadata": {
    "slideshow": {
     "slide_type": "fragment"
    },
    "tags": []
   },
   "outputs": [
    {
     "name": "stdout",
     "output_type": "stream",
     "text": [
      "Der Median für das Einkomen ist 59013.00 EUR.\n"
     ]
    }
   ],
   "source": [
    "# Berechne den Median für die Werte in der Spalte \"Einkommen\"\n",
    "eink_median = df_kunden['Einkommen'].median()\n",
    "\n",
    "print(f'Der Median für das Einkomen ist {eink_median:.2f} EUR.')"
   ]
  },
  {
   "cell_type": "markdown",
   "id": "a215aac7-4aa9-41f4-878e-9cf7960ac497",
   "metadata": {
    "slideshow": {
     "slide_type": "fragment"
    },
    "tags": []
   },
   "source": [
    "```python\n",
    "# Ersetze Ausreißer mit dem Median der Spalte \"Einkommen\"\n",
    "df_kunden.loc[df_kunden['Ausreißer'] == True, 'Einkommen'] = eink_median\n",
    "```"
   ]
  },
  {
   "cell_type": "code",
   "execution_count": 21,
   "id": "9697ed7f-2180-458e-83b0-196058172b98",
   "metadata": {
    "slideshow": {
     "slide_type": "skip"
    },
    "tags": []
   },
   "outputs": [],
   "source": [
    "# Ersetze Ausreißer mit dem Median der Spalte \"Einkommen\"\n",
    "df_kunden.loc[df_kunden['Ausreißer'] == True, 'Einkommen'] = eink_median"
   ]
  },
  {
   "cell_type": "markdown",
   "id": "7b7c86f1-08b8-4bd6-a7f9-3b24882a8680",
   "metadata": {
    "slideshow": {
     "slide_type": "subslide"
    },
    "tags": []
   },
   "source": [
    "```python\n",
    "# Entfernen der Ausreißer in der Spalte \"Alter\":\n",
    "# Berechnung von alt_Q1 (25. Perzentil), alt_Q3 (75. Perzentil) und alt_IQR\n",
    "alt_Q1 = df_kunden['Alter'].quantile(0.25)\n",
    "alt_Q3 = df_kunden['Alter'].quantile(0.75)\n",
    "alt_IQR = alt_Q3 - alt_Q1\n",
    "\n",
    "# Berechnung der Ausreißer-Grenzen\n",
    "alt_untere_grenze = alt_Q1 - 1.5 * alt_IQR\n",
    "alt_obere_grenze = alt_Q3 + 1.5 * alt_IQR\n",
    "\n",
    "# Identifizierung von Ausreißern\n",
    "df_kunden['Ausreißer'] = (df_kunden['Alter'] < alt_untere_grenze) | (df_kunden['Alter'] > alt_obere_grenze)\n",
    "```"
   ]
  },
  {
   "cell_type": "code",
   "execution_count": 22,
   "id": "8580b06c-0253-4ed8-be3c-45e69a565e0f",
   "metadata": {
    "slideshow": {
     "slide_type": "skip"
    },
    "tags": []
   },
   "outputs": [],
   "source": [
    "# Entfernen der Ausreißer in der Spalte \"Alter\":\n",
    "# Berechnung von alt_Q1 (25. Perzentil), alt_Q3 (75. Perzentil) und alt_IQR\n",
    "alt_Q1 = df_kunden['Alter'].quantile(0.25)\n",
    "alt_Q3 = df_kunden['Alter'].quantile(0.75)\n",
    "alt_IQR = alt_Q3 - alt_Q1\n",
    "\n",
    "# Berechnung der Ausreißer-Grenzen\n",
    "alt_untere_grenze = alt_Q1 - 1.5 * alt_IQR\n",
    "alt_obere_grenze = alt_Q3 + 1.5 * alt_IQR\n",
    "\n",
    "# Identifizierung von Ausreißern\n",
    "df_kunden['Ausreißer'] = (df_kunden['Alter'] < alt_untere_grenze) | (df_kunden['Alter'] > alt_obere_grenze)"
   ]
  },
  {
   "cell_type": "markdown",
   "id": "7d190b5e-1033-49a1-a239-950ca2f24d91",
   "metadata": {
    "slideshow": {
     "slide_type": "subslide"
    },
    "tags": []
   },
   "source": [
    "```python\n",
    "# Berechne den Median für die Werte in der Spalte \"Alter\"\n",
    "alt_median = df_kunden['Alter'].median()\n",
    "```"
   ]
  },
  {
   "cell_type": "code",
   "execution_count": 23,
   "id": "20dc65e9-1868-4b1f-be97-909d2ab02eee",
   "metadata": {
    "slideshow": {
     "slide_type": "fragment"
    },
    "tags": []
   },
   "outputs": [
    {
     "name": "stdout",
     "output_type": "stream",
     "text": [
      "Der Median für das Alter ist 51.00 Jahre.\n"
     ]
    }
   ],
   "source": [
    "# Berechne den Median für die Werte in der Spalte \"Alter\"\n",
    "alt_median = df_kunden['Alter'].median()\n",
    "\n",
    "print(f'Der Median für das Alter ist {alt_median:.2f} Jahre.')"
   ]
  },
  {
   "cell_type": "markdown",
   "id": "4cbf8286-3086-4681-b6c0-2d5a40700750",
   "metadata": {
    "slideshow": {
     "slide_type": "fragment"
    },
    "tags": []
   },
   "source": [
    "```python\n",
    "# Ersetze Ausreißer mit dem Median der Spalte \"Alter\"\n",
    "df_kunden.loc[df_kunden['Ausreißer'] == True, 'Alter'] = alt_median\n",
    "```"
   ]
  },
  {
   "cell_type": "code",
   "execution_count": 24,
   "id": "0d9f0f96-d3b8-4370-ad94-ea47bf6132ee",
   "metadata": {
    "slideshow": {
     "slide_type": "skip"
    },
    "tags": []
   },
   "outputs": [],
   "source": [
    "# Ersetze Ausreißer mit dem Median der Spalte \"Alter\"\n",
    "df_kunden.loc[df_kunden['Ausreißer'] == True, 'Alter'] = alt_median"
   ]
  },
  {
   "cell_type": "markdown",
   "id": "19701dd7-66f3-4cde-8e71-772ebdcf0de9",
   "metadata": {
    "slideshow": {
     "slide_type": "subslide"
    },
    "tags": []
   },
   "source": [
    "## Zusammenführen von df_besucher und df_geo"
   ]
  },
  {
   "cell_type": "markdown",
   "id": "19b79104-0dfa-4512-90ea-6fd5ff9e6751",
   "metadata": {
    "slideshow": {
     "slide_type": "fragment"
    },
    "tags": []
   },
   "source": [
    "```python\n",
    "# Zusammenführen von df_besucher und df_geo basierend auf KundeNr\n",
    "df_besucher_geo = pd.merge(df_besucher, df_geo, on='KundeNr', how='left')\n",
    "\n",
    "# Zusammenführen von df_kunden und df_geo basierend auf KundeNr\n",
    "df_kunden_geo = pd.merge(df_kunden, df_geo, on='KundeNr', how='left')\n",
    "```"
   ]
  },
  {
   "cell_type": "code",
   "execution_count": 25,
   "id": "2970d887-a7a9-40ad-ab2d-6a82329d32e5",
   "metadata": {
    "slideshow": {
     "slide_type": "skip"
    },
    "tags": []
   },
   "outputs": [],
   "source": [
    "# Zusammenführen von df_besucher und df_geo basierend auf KundeNr\n",
    "df_besucher_geo = pd.merge(df_besucher, df_geo, on='KundeNr', how='left')\n",
    "\n",
    "# Zusammenführen von df_kunden und df_geo basierend auf KundeNr\n",
    "df_kunden_geo = pd.merge(df_kunden, df_geo, on='KundeNr', how='left')"
   ]
  },
  {
   "cell_type": "markdown",
   "id": "e09eba56-225c-4b65-bafe-933eeeb0899c",
   "metadata": {
    "slideshow": {
     "slide_type": "fragment"
    },
    "tags": []
   },
   "source": [
    "```python\n",
    "# Zusammenführen von df_besucher_geo und df_kunden_geo zu df_gesamt\n",
    "df_gesamt = pd.concat([df_besucher_geo, df_kunden_geo], ignore_index=True)\n",
    "\n",
    "# Bereinigten und zusammengeführten DataFrame df_gesamt als CSV speichern\n",
    "df_gesamt.to_csv('data/df_gesamt.csv', index=False)\n",
    "```"
   ]
  },
  {
   "cell_type": "code",
   "execution_count": 26,
   "id": "51be75b3-cdc1-42ef-9f7f-9562acd99a07",
   "metadata": {
    "slideshow": {
     "slide_type": "skip"
    },
    "tags": []
   },
   "outputs": [],
   "source": [
    "# Zusammenführen von df_besucher_geo und df_kunden_geo zu df_gesamt\n",
    "df_gesamt = pd.concat([df_besucher_geo, df_kunden_geo], ignore_index=True)\n",
    "\n",
    "# Bereinigten und zusammengeführten DataFrame df_gesamt als CSV speichern\n",
    "df_gesamt.to_csv('data/df_gesamt.csv', index=False)"
   ]
  },
  {
   "cell_type": "markdown",
   "id": "c6653a5a-d391-4491-9377-8917ca4a4668",
   "metadata": {
    "slideshow": {
     "slide_type": "slide"
    },
    "tags": []
   },
   "source": [
    "# Fragen"
   ]
  },
  {
   "cell_type": "markdown",
   "id": "bb48ef37-0389-454e-aeea-e5311fd33607",
   "metadata": {
    "slideshow": {
     "slide_type": "subslide"
    },
    "tags": []
   },
   "source": [
    "### F1: Wie viele Autos wurden verkauft?"
   ]
  },
  {
   "cell_type": "markdown",
   "id": "73018a8a-59eb-4f5d-ad1b-f0c6d4818600",
   "metadata": {
    "slideshow": {
     "slide_type": "fragment"
    },
    "tags": []
   },
   "source": [
    "```python\n",
    "# Filtern der Verkäufe\n",
    "df_verk = df_gesamt[df_gesamt['Kunde'] == True]\n",
    "\n",
    "# Anzahl der Verkäufe ermitteln\n",
    "anzahl_verk = len(df_verk)\n",
    "```"
   ]
  },
  {
   "cell_type": "code",
   "execution_count": 27,
   "id": "403079fa-8d4b-459a-92fd-deac11fd3036",
   "metadata": {
    "slideshow": {
     "slide_type": "fragment"
    },
    "tags": []
   },
   "outputs": [
    {
     "name": "stdout",
     "output_type": "stream",
     "text": [
      "Anzahl der verkauften Autos: 1104 Stk.\n"
     ]
    }
   ],
   "source": [
    "# Filtern der Verkäufe\n",
    "df_verk = df_gesamt[df_gesamt['Kunde'] == True]\n",
    "\n",
    "# Anzahl der Verkäufe ermitteln\n",
    "anzahl_verk = len(df_verk)\n",
    "print(f'Anzahl der verkauften Autos: {anzahl_verk} Stk.')"
   ]
  },
  {
   "cell_type": "markdown",
   "id": "e1d520eb-5956-4411-9a5c-254e03608b50",
   "metadata": {
    "slideshow": {
     "slide_type": "subslide"
    },
    "tags": []
   },
   "source": [
    "### F2: Was ist der Höchst-, Mindest- und Durchschnittspreis der verkauften Autos?"
   ]
  },
  {
   "cell_type": "markdown",
   "id": "43e880ef-1dbc-48eb-8e47-5719c4e1d0bc",
   "metadata": {
    "slideshow": {
     "slide_type": "fragment"
    },
    "tags": []
   },
   "source": [
    "```python\n",
    "# Höchster Verkaufspreis\n",
    "max_preis = df_verk['Preis'].max()\n",
    "\n",
    "# Niedrigster Verkaufspreis\n",
    "min_preis = df_verk['Preis'].min()\n",
    "\n",
    "# Durchschnittspreis\n",
    "mittel_preis = df_verk['Preis'].mean()\n",
    "```"
   ]
  },
  {
   "cell_type": "code",
   "execution_count": 28,
   "id": "3a2256bb-100a-4154-80f5-67d8b27f8858",
   "metadata": {
    "slideshow": {
     "slide_type": "fragment"
    },
    "tags": []
   },
   "outputs": [
    {
     "name": "stdout",
     "output_type": "stream",
     "text": [
      "Höchster Verkaufspreis:   165482.31 EUR\n",
      "Niedrigster Verkaufspreis: 21471.65 EUR\n",
      "Durchschnittspreis:        88975.20 EUR\n"
     ]
    }
   ],
   "source": [
    "# Höchster Verkaufspreis\n",
    "max_preis = df_verk['Preis'].max()\n",
    "\n",
    "# Niedrigster Verkaufspreis\n",
    "min_preis = df_verk['Preis'].min()\n",
    "\n",
    "# Durchschnittspreis\n",
    "mittel_preis = df_verk['Preis'].mean()\n",
    "\n",
    "# Ausgabe der Ergebnisse\n",
    "print(f'''Höchster Verkaufspreis:   {max_preis:.2f} EUR\n",
    "Niedrigster Verkaufspreis: {min_preis:.2f} EUR\n",
    "Durchschnittspreis:        {mittel_preis:.2f} EUR''')"
   ]
  },
  {
   "cell_type": "markdown",
   "id": "9c689aa1-c830-47a3-b996-d1f80a479eb9",
   "metadata": {
    "slideshow": {
     "slide_type": "subslide"
    },
    "tags": []
   },
   "source": [
    "### F3: Wie hoch war der Gesamtumsatz?"
   ]
  },
  {
   "cell_type": "markdown",
   "id": "59218091-7c1b-453f-ae07-c9e0c27ed3b8",
   "metadata": {
    "slideshow": {
     "slide_type": "fragment"
    },
    "tags": []
   },
   "source": [
    "```python\n",
    "# Gesamtumsatz\n",
    "gesamtumsatz = df_verk['Preis'].sum()\n",
    "```"
   ]
  },
  {
   "cell_type": "code",
   "execution_count": 29,
   "id": "68d5d8ba-537e-4f27-ac11-f6b033130e8d",
   "metadata": {
    "slideshow": {
     "slide_type": "fragment"
    },
    "tags": []
   },
   "outputs": [
    {
     "name": "stdout",
     "output_type": "stream",
     "text": [
      "Gesamtumsatz: 98228619.38 EUR\n"
     ]
    }
   ],
   "source": [
    "# Gesamtumsatz\n",
    "gesamtumsatz = df_verk['Preis'].sum()\n",
    "print(f'Gesamtumsatz: {gesamtumsatz:.2f} EUR')"
   ]
  },
  {
   "cell_type": "markdown",
   "id": "9af0f6b8-c9d3-4f35-b3d9-55ac6edad185",
   "metadata": {
    "slideshow": {
     "slide_type": "subslide"
    },
    "tags": []
   },
   "source": [
    "### F4: Wie viele Autos wurden pro Bundesland verkauft?"
   ]
  },
  {
   "cell_type": "markdown",
   "id": "da164d76-2a18-480d-b5d0-9a480c5614ed",
   "metadata": {
    "slideshow": {
     "slide_type": "fragment"
    },
    "tags": []
   },
   "source": [
    "```python\n",
    "# Liste der Bundesländer mit der Anzahl der Verkäufe\n",
    "anzahl_verk_niederl = df_verk['Niederlassung'].value_counts()\n",
    "\n",
    "# Alphabetisch sortieren\n",
    "anzahl_verk_niederl = anzahl_verk_niederl.sort_index()\n",
    "```"
   ]
  },
  {
   "cell_type": "code",
   "execution_count": 30,
   "id": "486c9674-c028-40e1-a785-2d3fab53a8f0",
   "metadata": {
    "slideshow": {
     "slide_type": "subslide"
    },
    "tags": []
   },
   "outputs": [
    {
     "data": {
      "text/html": [
       "\n",
       "    \n",
       "    <style>\n",
       "        table {\n",
       "            margin: 1px 0;\n",
       "            font-size: 10px;\n",
       "            text-align: left;\n",
       "        }\n",
       "        th, td {\n",
       "            border: 1px solid #ddd;\n",
       "            padding: 1px;\n",
       "        }\n",
       "        th {\n",
       "            background-color: #f2f2f2;\n",
       "            color: black;\n",
       "        }\n",
       "    </style>\n",
       "    \n",
       "    <h3>Anzahl der Verkäufe pro Bundesland in Stück</h3>\n",
       "    <table border=\"1\" class=\"dataframe\">\n",
       "  <thead>\n",
       "    <tr style=\"text-align: right;\">\n",
       "      <th>Niederlassung</th>\n",
       "      <th>count</th>\n",
       "    </tr>\n",
       "  </thead>\n",
       "  <tbody>\n",
       "    <tr>\n",
       "      <td>Baden-Württemberg</td>\n",
       "      <td>205</td>\n",
       "    </tr>\n",
       "    <tr>\n",
       "      <td>Bayern</td>\n",
       "      <td>188</td>\n",
       "    </tr>\n",
       "    <tr>\n",
       "      <td>Berlin</td>\n",
       "      <td>126</td>\n",
       "    </tr>\n",
       "    <tr>\n",
       "      <td>Brandenburg</td>\n",
       "      <td>37</td>\n",
       "    </tr>\n",
       "    <tr>\n",
       "      <td>Hamburg</td>\n",
       "      <td>43</td>\n",
       "    </tr>\n",
       "    <tr>\n",
       "      <td>Hessen</td>\n",
       "      <td>96</td>\n",
       "    </tr>\n",
       "    <tr>\n",
       "      <td>Niedersachsen</td>\n",
       "      <td>96</td>\n",
       "    </tr>\n",
       "    <tr>\n",
       "      <td>Nordrhein-Westfalen</td>\n",
       "      <td>175</td>\n",
       "    </tr>\n",
       "    <tr>\n",
       "      <td>Sachsen</td>\n",
       "      <td>89</td>\n",
       "    </tr>\n",
       "    <tr>\n",
       "      <td>Thüringen</td>\n",
       "      <td>49</td>\n",
       "    </tr>\n",
       "  </tbody>\n",
       "</table>\n",
       "    "
      ],
      "text/plain": [
       "<IPython.core.display.HTML object>"
      ]
     },
     "metadata": {},
     "output_type": "display_data"
    }
   ],
   "source": [
    "# Liste der Bundesländer mit der Anzahl der Verkäufe\n",
    "anz_verk_niederl = df_verk['Niederlassung'].value_counts()\n",
    "\n",
    "# Alphabetisch sortieren\n",
    "anz_verk_niederl = anz_verk_niederl.sort_index()\n",
    "\n",
    "# Ausgabe\n",
    "html_ausgabe = pandas_to_html(anz_verk_niederl, 'Anzahl der Verkäufe pro Bundesland in Stück')\n",
    "display(my_html(html_ausgabe))\n"
   ]
  },
  {
   "cell_type": "markdown",
   "id": "66f98492-0f02-4194-8a0c-2f5c95761bb8",
   "metadata": {
    "slideshow": {
     "slide_type": "subslide"
    },
    "tags": []
   },
   "source": [
    "### F5: Wie hoch war der durchschnittliche Umsatz pro Bundesland?"
   ]
  },
  {
   "cell_type": "markdown",
   "id": "87f0f608-367f-43e0-961f-86a93289ae3a",
   "metadata": {
    "slideshow": {
     "slide_type": "fragment"
    },
    "tags": []
   },
   "source": [
    "```python\n",
    "# Durchschnittlicher Umsatz pro Bundesland\n",
    "umsatz_pro_niederl = df_verk.groupby('Niederlassung')['Preis'].mean()\n",
    "\n",
    "# Runden auf zwei Nachkommastellen\n",
    "umsatz_pro_niederl = umsatz_pro_niederl.round(2)\n",
    "```"
   ]
  },
  {
   "cell_type": "code",
   "execution_count": 31,
   "id": "3a20d3fc-8fde-4e19-b8e6-b9e8a0a1fc7f",
   "metadata": {
    "slideshow": {
     "slide_type": "subslide"
    },
    "tags": []
   },
   "outputs": [
    {
     "data": {
      "text/html": [
       "\n",
       "    \n",
       "    <style>\n",
       "        table {\n",
       "            margin: 1px 0;\n",
       "            font-size: 10px;\n",
       "            text-align: left;\n",
       "        }\n",
       "        th, td {\n",
       "            border: 1px solid #ddd;\n",
       "            padding: 1px;\n",
       "        }\n",
       "        th {\n",
       "            background-color: #f2f2f2;\n",
       "            color: black;\n",
       "        }\n",
       "    </style>\n",
       "    \n",
       "    <h3>Durchschnittlicher Umsatz pro Bundesland in EUR</h3>\n",
       "    <table border=\"1\" class=\"dataframe\">\n",
       "  <thead>\n",
       "    <tr style=\"text-align: right;\">\n",
       "      <th>Niederlassung</th>\n",
       "      <th>Preis</th>\n",
       "    </tr>\n",
       "  </thead>\n",
       "  <tbody>\n",
       "    <tr>\n",
       "      <td>Baden-Württemberg</td>\n",
       "      <td>90969.56</td>\n",
       "    </tr>\n",
       "    <tr>\n",
       "      <td>Bayern</td>\n",
       "      <td>89344.31</td>\n",
       "    </tr>\n",
       "    <tr>\n",
       "      <td>Berlin</td>\n",
       "      <td>89584.98</td>\n",
       "    </tr>\n",
       "    <tr>\n",
       "      <td>Brandenburg</td>\n",
       "      <td>86673.64</td>\n",
       "    </tr>\n",
       "    <tr>\n",
       "      <td>Hamburg</td>\n",
       "      <td>85549.50</td>\n",
       "    </tr>\n",
       "    <tr>\n",
       "      <td>Hessen</td>\n",
       "      <td>85864.93</td>\n",
       "    </tr>\n",
       "    <tr>\n",
       "      <td>Niedersachsen</td>\n",
       "      <td>87963.31</td>\n",
       "    </tr>\n",
       "    <tr>\n",
       "      <td>Nordrhein-Westfalen</td>\n",
       "      <td>88633.27</td>\n",
       "    </tr>\n",
       "    <tr>\n",
       "      <td>Sachsen</td>\n",
       "      <td>89455.08</td>\n",
       "    </tr>\n",
       "    <tr>\n",
       "      <td>Thüringen</td>\n",
       "      <td>90816.99</td>\n",
       "    </tr>\n",
       "  </tbody>\n",
       "</table>\n",
       "    "
      ],
      "text/plain": [
       "<IPython.core.display.HTML object>"
      ]
     },
     "metadata": {},
     "output_type": "display_data"
    }
   ],
   "source": [
    "# Durchschnittlicher Umsatz pro Bundesland\n",
    "umsatz_pro_niederl = df_verk.groupby('Niederlassung')['Preis'].mean()\n",
    "\n",
    "# Runden auf zwei Nachkommastellen\n",
    "umsatz_pro_niederl = umsatz_pro_niederl.round(2)\n",
    "\n",
    "# Sortieren nach dem durchschnittlichem Umsatz (absteigend)\n",
    "#umsatz_pro_niederl = umsatz_pro_niederl.sort_values(ascending=False)\n",
    "\n",
    "# Ausgabe\n",
    "html_ausgabe = pandas_to_html(umsatz_pro_niederl, 'Durchschnittlicher Umsatz pro Bundesland in EUR')\n",
    "display(my_html(html_ausgabe))"
   ]
  },
  {
   "cell_type": "markdown",
   "id": "63b58c5d-227c-4a2a-9b13-dd82ffdd2490",
   "metadata": {
    "slideshow": {
     "slide_type": "subslide"
    },
    "tags": []
   },
   "source": [
    "### F6: In welchem Bundesland wurde das teuerste Auto verkauft?"
   ]
  },
  {
   "cell_type": "markdown",
   "id": "f6e2b2e8-b06d-4c7d-a2df-1cecde142f9c",
   "metadata": {
    "slideshow": {
     "slide_type": "fragment"
    },
    "tags": []
   },
   "source": [
    "```python\n",
    "# Ermittlung der höchsten Verkaufspreise für jedes Bundesland\n",
    "max_pro_niederl = df_verk.groupby('Niederlassung')['Preis'].max()\n",
    "\n",
    "# Finden des Bundeslandes mit dem höchsten Verkaufspreis\n",
    "max_niederl = max_pro_niederl.idxmax()\n",
    "max_preis = max_pro_niederl.max()\n",
    "```"
   ]
  },
  {
   "cell_type": "code",
   "execution_count": 32,
   "id": "7ac62089-65ec-4eab-b970-f9f97f6968d8",
   "metadata": {
    "slideshow": {
     "slide_type": "fragment"
    },
    "tags": []
   },
   "outputs": [
    {
     "name": "stdout",
     "output_type": "stream",
     "text": [
      "Das Bundesland mit dem höchsten Verkaufspreis ist Niedersachsen mit einem Preis von 165482.31 EUR.\n"
     ]
    }
   ],
   "source": [
    "# Ermittlung der höchsten Verkaufspreise für jedes Bundesland\n",
    "max_pro_niederl = df_verk.groupby('Niederlassung')['Preis'].max()\n",
    "\n",
    "# Finden des Bundeslandes mit dem höchsten Verkaufspreis\n",
    "max_niederl = max_pro_niederl.idxmax()\n",
    "max_preis = max_pro_niederl.max()\n",
    "\n",
    "print(f'Das Bundesland mit dem höchsten Verkaufspreis ist {max_niederl} mit einem Preis von {max_preis} EUR.')"
   ]
  },
  {
   "cell_type": "markdown",
   "id": "98229e30-1f93-4532-a296-67e9d122d32c",
   "metadata": {
    "slideshow": {
     "slide_type": "subslide"
    },
    "tags": []
   },
   "source": [
    "### F7: Haben mehr Frauen oder mehr Männer unsere Autos gekauft?"
   ]
  },
  {
   "cell_type": "markdown",
   "id": "541714b5-8e39-4835-9ca0-79f3f125b907",
   "metadata": {
    "editable": true,
    "slideshow": {
     "slide_type": "fragment"
    },
    "tags": []
   },
   "source": [
    "```python\n",
    "# Ermittlung der Anzahl der Verkäufe pro Geschlecht\n",
    "verk_pro_geschl = df_verk.groupby('Geschlecht')['Geschlecht'].count()\n",
    "\n",
    "# Finden des Geschlechts mit den meisten Käufen\n",
    "max_geschl = 'Männern' if verk_pro_geschl.idxmax() else 'Frauen'\n",
    "max_verk = verk_pro_geschl.max()\n",
    "```"
   ]
  },
  {
   "cell_type": "code",
   "execution_count": 33,
   "id": "4ab39d08-6223-4ccf-89e1-1705e2174dbf",
   "metadata": {
    "editable": true,
    "slideshow": {
     "slide_type": "fragment"
    },
    "tags": []
   },
   "outputs": [
    {
     "name": "stdout",
     "output_type": "stream",
     "text": [
      "Die meisten Autos wurden von Männern gekauft,\n",
      "sie haben 706 Autos gekauft.\n"
     ]
    }
   ],
   "source": [
    "# Ermittlung der Anzahl der Verkäufe pro Geschlecht\n",
    "verk_pro_geschl = df_verk.groupby('Geschlecht')['Geschlecht'].count()\n",
    "\n",
    "# Finden des Geschlechts mit den meisten Käufen\n",
    "max_geschl = 'Männern' if verk_pro_geschl.idxmax() else 'Frauen'\n",
    "max_verk = verk_pro_geschl.max()\n",
    "\n",
    "print(f'''Die meisten Autos wurden von {max_geschl} gekauft,\n",
    "sie haben {max_verk} Autos gekauft.''')"
   ]
  },
  {
   "cell_type": "markdown",
   "id": "a99c59e8-bd73-4d3f-9645-83cec40c1d13",
   "metadata": {
    "slideshow": {
     "slide_type": "subslide"
    },
    "tags": []
   },
   "source": [
    "### F8: Wie hoch ist das Durchschnittsalter unserer Kunden? Wie hoch ist das Durchschnittsalter unserer Besucher?"
   ]
  },
  {
   "cell_type": "markdown",
   "id": "64cdfda9-94b9-4f77-8c02-e2bdfaa0cd07",
   "metadata": {
    "slideshow": {
     "slide_type": "fragment"
    },
    "tags": []
   },
   "source": [
    "```python\n",
    "# Berechnung des Durchschnittsalters für Kunden und Besucher\n",
    "mittel_alt_kunden = df_gesamt[df_gesamt['Kunde'] == 1]['Alter'].mean()\n",
    "mittel_alt_besucher = df_gesamt[df_gesamt['Kunde'] == 0]['Alter'].mean()\n",
    "```"
   ]
  },
  {
   "cell_type": "code",
   "execution_count": 34,
   "id": "47418d78-f9c6-4438-86ca-ff4bf0d1afe1",
   "metadata": {
    "slideshow": {
     "slide_type": "fragment"
    },
    "tags": []
   },
   "outputs": [
    {
     "name": "stdout",
     "output_type": "stream",
     "text": [
      "Das Durchschnittsalter der Kunden ist 50.38 Jahre.\n",
      "Das Durchschnittsalter der Besucher ist 49.88 Jahre.\n"
     ]
    }
   ],
   "source": [
    "# Berechnung des Durchschnittsalters für Kunden und Besucher\n",
    "mittel_alt_kunden = df_gesamt[df_gesamt['Kunde'] == 1]['Alter'].mean()\n",
    "mittel_alt_besucher = df_gesamt[df_gesamt['Kunde'] == 0]['Alter'].mean()\n",
    "\n",
    "print(f'''Das Durchschnittsalter der Kunden ist {mittel_alt_kunden:.2f} Jahre.\n",
    "Das Durchschnittsalter der Besucher ist {mittel_alt_besucher:.2f} Jahre.''')"
   ]
  },
  {
   "cell_type": "markdown",
   "id": "e487320d-6977-4c15-97d4-e767fde6ddaa",
   "metadata": {
    "slideshow": {
     "slide_type": "subslide"
    },
    "tags": []
   },
   "source": [
    "### F9: Wie hoch ist das Durchschnittseinkommen unserer Kunden? Wie hoch ist das Durchschnittseinkommen unserer Besucher?"
   ]
  },
  {
   "cell_type": "markdown",
   "id": "df371127-0fa0-46e3-b6aa-7e8e54fd9d5e",
   "metadata": {
    "slideshow": {
     "slide_type": "fragment"
    },
    "tags": []
   },
   "source": [
    "```python\n",
    "# Filter nach Einkommen der Kunden\n",
    "eink_kunden = df_gesamt[df_gesamt['Kunde'] == 1]['Einkommen']\n",
    "# Filter nach Einkommen der Besucher\n",
    "eink_besucher = df_gesamt[df_gesamt['Kunde'] == 0]['Einkommen']\n",
    "\n",
    "# Berechnung der Durchschnittseinkommen für Kunden und Besucher\n",
    "mittel_eink_kunden = eink_kunden.mean()\n",
    "mittel_eink_besucher = eink_besucher.mean()\n",
    "```"
   ]
  },
  {
   "cell_type": "code",
   "execution_count": 35,
   "id": "96812017-2995-4126-a612-25430a1e9720",
   "metadata": {
    "slideshow": {
     "slide_type": "fragment"
    },
    "tags": []
   },
   "outputs": [
    {
     "name": "stdout",
     "output_type": "stream",
     "text": [
      "Das Durchschnittseinkommen der Kunden ist 58850.91 EUR.\n",
      "Das Durchschnittseinkommen der Besucher ist 59367.94 EUR.\n"
     ]
    }
   ],
   "source": [
    "# Filter nach Einkommen der Kunden\n",
    "eink_kunden = df_gesamt[df_gesamt['Kunde'] == 1]['Einkommen']\n",
    "# Filter nach Einkommen der Besucher\n",
    "eink_besucher = df_gesamt[df_gesamt['Kunde'] == 0]['Einkommen']\n",
    "\n",
    "# Berechnung der Durchschnittseinkommen für Kunden und Besucher\n",
    "mittel_eink_kunden = eink_kunden.mean()\n",
    "mittel_eink_besucher = eink_besucher.mean()\n",
    "\n",
    "print(f'''Das Durchschnittseinkommen der Kunden ist {mittel_eink_kunden:.2f} EUR.\n",
    "Das Durchschnittseinkommen der Besucher ist {mittel_eink_besucher:.2f} EUR.''')"
   ]
  },
  {
   "cell_type": "markdown",
   "id": "307897f6-ccf6-4909-bf95-7eff13ad19e2",
   "metadata": {
    "slideshow": {
     "slide_type": "subslide"
    },
    "tags": []
   },
   "source": [
    "### F10: Bestimmen Sie, ob es einen statistisch signifikanten Unterschied zwischen dem Durchschnittseinkommen der Kunden und dem Durchschnittseinkommen der Besucher gibt.\n",
    "#### Sie müssen einen Zweistichproben-t-Test durchführen. Beginnen Sie mit der Aufstellung der Null- und Alternativhypothese. Verwenden Sie ein Signifikanzniveau (α) von 5%. Nehmen Sie an, dass die Varianzen der beiden Gruppen gleich sind."
   ]
  },
  {
   "cell_type": "markdown",
   "id": "45d54ebf-40c1-440d-a729-725c8a5abb49",
   "metadata": {
    "slideshow": {
     "slide_type": "fragment"
    },
    "tags": []
   },
   "source": [
    "Nullhypothese (H0​): Es gibt keinen Unterschied zwischen dem Durchschnittseinkommen der Kunden und der Besucher. (μKunden=μBesucher)\n",
    "\n",
    "Alternativhypothese (H1​): Es gibt einen Unterschied zwischen dem Durchschnittseinkommen der Kunden und der Besucher. (μKunden≠μBesucher​)\n",
    "\n",
    "Wir verwenden ein Signifikanzniveau (α) von 5%."
   ]
  },
  {
   "cell_type": "markdown",
   "id": "31bad0c9-2a01-47b2-baf1-51e78930ee1a",
   "metadata": {
    "slideshow": {
     "slide_type": "subslide"
    },
    "tags": []
   },
   "source": [
    "```python\n",
    "# Zweistichproben-t-Test durchführen, unter der Annahme, dass die Varianzen gleich sind (usevar='pooled')\n",
    "t_stat, p_value, df = my_ttest(eink_kunden, eink_besucher, usevar='pooled')\n",
    "\n",
    "# Entscheidung basierend auf dem p-Wert\n",
    "alpha = 0.05\n",
    "stat_signifikant = p_value < alpha\n",
    "```"
   ]
  },
  {
   "cell_type": "code",
   "execution_count": 36,
   "id": "a1f64eba-1e49-454b-ad41-8c4518565a7f",
   "metadata": {
    "slideshow": {
     "slide_type": ""
    },
    "tags": []
   },
   "outputs": [
    {
     "name": "stdout",
     "output_type": "stream",
     "text": [
      "Ergebnisse des Zweistichproben-t-Tests:\n",
      "t-Statistik: -0.70\n",
      "p-Wert: 0.48183\n",
      "\n",
      "Es gibt keinen statistisch signifikanten Unterschied\n",
      "zwischen dem Durchschnittseinkommen der Kunden und dem der Besucher.\n"
     ]
    }
   ],
   "source": [
    "# Zweistichproben-t-Test durchführen, unter der Annahme, dass die Varianzen gleich sind (usevar='pooled')\n",
    "t_stat, p_value, df = my_ttest(eink_kunden, eink_besucher, usevar='pooled')\n",
    "\n",
    "print(f'''Ergebnisse des Zweistichproben-t-Tests:\n",
    "t-Statistik: {t_stat:.2f}\n",
    "p-Wert: {p_value:.5f}\\n''')\n",
    "\n",
    "# Entscheidung basierend auf dem p-Wert\n",
    "alpha = 0.05\n",
    "stat_signifikant = p_value < alpha\n",
    "if stat_signifikant:\n",
    "    print('''Es gibt einen statistisch signifikanten Unterschied\n",
    "zwischen dem Durchschnittseinkommen der Kunden und dem der Besucher.''')\n",
    "else:\n",
    "    print('''Es gibt keinen statistisch signifikanten Unterschied\n",
    "zwischen dem Durchschnittseinkommen der Kunden und dem der Besucher.''')"
   ]
  },
  {
   "cell_type": "markdown",
   "id": "d60fee3a-23af-4c2a-a893-ac95ea65fc1e",
   "metadata": {
    "slideshow": {
     "slide_type": "subslide"
    },
    "tags": []
   },
   "source": [
    "### F11: Wie hoch ist die Korrelation (Pearson-Korrelation) zwischen den Variablen Alter, Einkommen, Preis und Zeit?\n",
    "#### Berechnen Sie die Korrelation nur für Kunden."
   ]
  },
  {
   "cell_type": "markdown",
   "id": "1d3954db-e8d3-46ce-9e49-44b1379f9e30",
   "metadata": {
    "slideshow": {
     "slide_type": "fragment"
    },
    "tags": []
   },
   "source": [
    "```python\n",
    "# Berechnung der Pearson-Korrelation (nur für Kunden)\n",
    "r = df_verk[['Alter', 'Einkommen', 'Preis', 'Zeit']].corr(method='pearson')\n",
    "```"
   ]
  },
  {
   "cell_type": "code",
   "execution_count": 37,
   "id": "abb0eb79-edbc-417b-be81-b27f3540a94c",
   "metadata": {
    "slideshow": {
     "slide_type": "fragment"
    },
    "tags": []
   },
   "outputs": [
    {
     "data": {
      "text/html": [
       "\n",
       "    \n",
       "    <style>\n",
       "        table {\n",
       "            margin: 1px 0;\n",
       "            font-size: 10px;\n",
       "            text-align: left;\n",
       "        }\n",
       "        th, td {\n",
       "            border: 1px solid #ddd;\n",
       "            padding: 1px;\n",
       "        }\n",
       "        th {\n",
       "            background-color: #f2f2f2;\n",
       "            color: black;\n",
       "        }\n",
       "    </style>\n",
       "    \n",
       "    <h3>Korrelation zwischen den Variablen Alter, Einkommen, Preis und Zeit für Kunden</h3>\n",
       "    <table border=\"1\" class=\"dataframe\">\n",
       "  <thead>\n",
       "    <tr style=\"text-align: right;\">\n",
       "      <th>Index</th>\n",
       "      <th>Alter</th>\n",
       "      <th>Einkommen</th>\n",
       "      <th>Preis</th>\n",
       "      <th>Zeit</th>\n",
       "    </tr>\n",
       "    <tr>\n",
       "      <th>Index</th>\n",
       "      <th></th>\n",
       "      <th></th>\n",
       "      <th></th>\n",
       "      <th></th>\n",
       "    </tr>\n",
       "  </thead>\n",
       "  <tbody>\n",
       "    <tr>\n",
       "      <th>Alter</th>\n",
       "      <td>1.000000</td>\n",
       "      <td>0.760632</td>\n",
       "      <td>0.780478</td>\n",
       "      <td>0.588912</td>\n",
       "    </tr>\n",
       "    <tr>\n",
       "      <th>Einkommen</th>\n",
       "      <td>0.760632</td>\n",
       "      <td>1.000000</td>\n",
       "      <td>0.891739</td>\n",
       "      <td>0.775427</td>\n",
       "    </tr>\n",
       "    <tr>\n",
       "      <th>Preis</th>\n",
       "      <td>0.780478</td>\n",
       "      <td>0.891739</td>\n",
       "      <td>1.000000</td>\n",
       "      <td>0.707778</td>\n",
       "    </tr>\n",
       "    <tr>\n",
       "      <th>Zeit</th>\n",
       "      <td>0.588912</td>\n",
       "      <td>0.775427</td>\n",
       "      <td>0.707778</td>\n",
       "      <td>1.000000</td>\n",
       "    </tr>\n",
       "  </tbody>\n",
       "</table>\n",
       "    "
      ],
      "text/plain": [
       "<IPython.core.display.HTML object>"
      ]
     },
     "metadata": {},
     "output_type": "display_data"
    }
   ],
   "source": [
    "# Berechnung der Pearson-Korrelation (nur für Kunden)\n",
    "r = df_verk[['Alter', 'Einkommen', 'Preis', 'Zeit']].corr(method='pearson')\n",
    "\n",
    "# HTML Ausgabe\n",
    "html_ausgabe = pandas_to_html(r, 'Korrelation zwischen den Variablen Alter, Einkommen, Preis und Zeit für Kunden')\n",
    "display(my_html(html_ausgabe))"
   ]
  },
  {
   "cell_type": "markdown",
   "id": "d4b0b570-373c-4c8f-813d-9e19dad67adc",
   "metadata": {
    "slideshow": {
     "slide_type": "subslide"
    },
    "tags": []
   },
   "source": [
    "### F12: Testen Sie grafisch mit Hilfe eines qq-Plots, ob die Variable Zeit approximativ normalverteilt ist.\n",
    "#### Kunden und Besucher zusammen."
   ]
  },
  {
   "cell_type": "markdown",
   "id": "90495d24-6a8e-45f5-b9fe-2728502ed1ed",
   "metadata": {
    "editable": true,
    "slideshow": {
     "slide_type": "fragment"
    },
    "tags": []
   },
   "source": [
    "```python\n",
    "# Seaborn Farbpalette viridis\n",
    "cmap = sns.color_palette(\"viridis\", as_cmap=False)\n",
    "\n",
    "# QQ-Plot erstellen\n",
    "fig, ax = plt.subplots(figsize=(12, 6))  # Größe des Plots festlegen\n",
    "qqplot = sm.qqplot(df_gesamt['Zeit'], line='s', ax=ax)  # QQ-Plot erstellen, 's' für Standardnormalverteilung\n",
    "\n",
    "# Titel und Achsenbeschriftungen hinzufügen\n",
    "ax.set_title('Variable Zeit in Relation zur Standardnormalverteilung')\n",
    "ax.set_xlabel('Theoretische Quantile')\n",
    "ax.set_ylabel('Beobachtete Quantile')\n",
    "\n",
    "# viridis Farbpalette verwenden\n",
    "punkte = ax.get_lines()[0]\n",
    "punkte.set_markerfacecolor(cmap[1])  \n",
    "punkte.set_markeredgecolor(cmap[1])\n",
    "linie = ax.get_lines()[1]\n",
    "linie.set_color(cmap[4])\n",
    "\n",
    "# Speichern des QQ-Plots als Bild\n",
    "plt.savefig('images/qq_plot_zeit.png')\n",
    "plt.show()\n",
    "```"
   ]
  },
  {
   "cell_type": "code",
   "execution_count": 38,
   "id": "31b712b4-da26-4b34-a200-bf6839e6c053",
   "metadata": {
    "editable": true,
    "slideshow": {
     "slide_type": "subslide"
    },
    "tags": []
   },
   "outputs": [
    {
     "data": {
      "image/png": "[encoded data removed]",
      "text/plain": [
       "<Figure size 1200x600 with 1 Axes>"
      ]
     },
     "metadata": {},
     "output_type": "display_data"
    }
   ],
   "source": [
    "# Seaborn Farbpalette viridis\n",
    "cmap = sns.color_palette(\"viridis\", as_cmap=False)\n",
    "\n",
    "# QQ-Plot erstellen\n",
    "fig, ax = plt.subplots(figsize=(12, 6))  # Größe des Plots festlegen\n",
    "qqplot = sm.qqplot(df_gesamt['Zeit'], line='s', ax=ax)  # QQ-Plot erstellen, 's' für Standardnormalverteilung\n",
    "\n",
    "# Titel und Achsenbeschriftungen hinzufügen\n",
    "ax.set_title('Variable Zeit in Relation zur Standardnormalverteilung')\n",
    "ax.set_xlabel('Theoretische Quantile')\n",
    "ax.set_ylabel('Beobachtete Quantile')\n",
    "\n",
    "# viridis Farbpalette verwenden\n",
    "punkte = ax.get_lines()[0]\n",
    "punkte.set_markerfacecolor(cmap[1])  \n",
    "punkte.set_markeredgecolor(cmap[1])\n",
    "linie = ax.get_lines()[1]\n",
    "linie.set_color(cmap[4])\n",
    "\n",
    "# Speichern des QQ-Plots als Bild\n",
    "plt.savefig('images/qq_plot_zeit.png')\n",
    "plt.show()"
   ]
  },
  {
   "cell_type": "markdown",
   "id": "b08fb53d-0328-4b33-ade2-a2de1b011093",
   "metadata": {
    "editable": true,
    "slideshow": {
     "slide_type": "subslide"
    },
    "tags": []
   },
   "source": [
    "### F13: Wie viele Kunden haben keinen Bankkredit aufgenommen, um das Auto zu kaufen? Die Kundenabteilung hat vergessen, diese Informationen zu erfassen. Wir können davon ausgehen, dass die Kunden mit einem Jahreseinkommen höher als der Autopreis keinen Kredit aufgenommen haben."
   ]
  },
  {
   "cell_type": "markdown",
   "id": "9e5e586a-7ca3-4373-a844-10035ce9335d",
   "metadata": {
    "slideshow": {
     "slide_type": "fragment"
    },
    "tags": []
   },
   "source": [
    "```python\n",
    "# Kunden ohne Bankkredit berechnen\n",
    "kunden_ohne_kredit = df_verk[df_verk['Einkommen'] > df_verk['Preis']]\n",
    "anz_kunden_ohne_kredit = len(kunden_ohne_kredit)\n",
    "```"
   ]
  },
  {
   "cell_type": "code",
   "execution_count": 39,
   "id": "87c72852-de7d-40e4-baa6-82cdf968bf0d",
   "metadata": {
    "slideshow": {
     "slide_type": "fragment"
    },
    "tags": []
   },
   "outputs": [
    {
     "name": "stdout",
     "output_type": "stream",
     "text": [
      "Die Anzahl der Kunden, die keinen Bankkredit aufgenommen haben ist 5.\n"
     ]
    }
   ],
   "source": [
    "# Kunden ohne Bankkredit berechnen\n",
    "kunden_ohne_kredit = df_verk[df_verk['Einkommen'] > df_verk['Preis']]\n",
    "anz_kunden_ohne_kredit = len(kunden_ohne_kredit)\n",
    "print(f'Die Anzahl der Kunden, die keinen Bankkredit aufgenommen haben ist {anz_kunden_ohne_kredit}.')"
   ]
  },
  {
   "cell_type": "markdown",
   "id": "ab07671f-69ab-49f1-936c-e84cf1321110",
   "metadata": {
    "slideshow": {
     "slide_type": "subslide"
    },
    "tags": []
   },
   "source": [
    "### F14: Welche sozioökonomischen Merkmale beeinflussen den Kaufpreis? Wählen Sie die geeigneten unabhängigen Variablen aus und schätzen Sie eine Regression unter Verwendung der geeigneten Methode.\n",
    "#### Verwenden Sie die Bibliothek statsmodel und nicht sklearn."
   ]
  },
  {
   "cell_type": "markdown",
   "id": "5cb95c3f-98b7-4070-a901-f9c19dc25d56",
   "metadata": {
    "slideshow": {
     "slide_type": "fragment"
    },
    "tags": []
   },
   "source": [
    "```python\n",
    "# Unabhängige Variablen auswählen\n",
    "X_ml = df_verk[['Alter', 'Einkommen', 'Geschlecht']]\n",
    "X_ml = sm.add_constant(X_ml)  # Konstante hinzufügen\n",
    "\n",
    "# Abhängige Variable\n",
    "y_ml = df_verk['Preis']\n",
    "\n",
    "# Regression schätzen\n",
    "model = sm.OLS(y_ml, X_ml).fit()\n",
    "```"
   ]
  },
  {
   "cell_type": "code",
   "execution_count": 40,
   "id": "18cb6015-517b-47eb-b44e-5894d19ecc56",
   "metadata": {
    "slideshow": {
     "slide_type": "subslide"
    },
    "tags": []
   },
   "outputs": [
    {
     "data": {
      "text/html": [
       "<table class=\"simpletable\">\n",
       "<caption>OLS Regression Results</caption>\n",
       "<tr>\n",
       "  <th>Dep. Variable:</th>          <td>Preis</td>      <th>  R-squared:         </th> <td>   0.822</td> \n",
       "</tr>\n",
       "<tr>\n",
       "  <th>Model:</th>                   <td>OLS</td>       <th>  Adj. R-squared:    </th> <td>   0.821</td> \n",
       "</tr>\n",
       "<tr>\n",
       "  <th>Method:</th>             <td>Least Squares</td>  <th>  F-statistic:       </th> <td>   1692.</td> \n",
       "</tr>\n",
       "<tr>\n",
       "  <th>Date:</th>             <td>Thu, 27 Jun 2024</td> <th>  Prob (F-statistic):</th>  <td>  0.00</td>  \n",
       "</tr>\n",
       "<tr>\n",
       "  <th>Time:</th>                 <td>22:43:22</td>     <th>  Log-Likelihood:    </th> <td> -11770.</td> \n",
       "</tr>\n",
       "<tr>\n",
       "  <th>No. Observations:</th>      <td>  1104</td>      <th>  AIC:               </th> <td>2.355e+04</td>\n",
       "</tr>\n",
       "<tr>\n",
       "  <th>Df Residuals:</th>          <td>  1100</td>      <th>  BIC:               </th> <td>2.357e+04</td>\n",
       "</tr>\n",
       "<tr>\n",
       "  <th>Df Model:</th>              <td>     3</td>      <th>                     </th>     <td> </td>    \n",
       "</tr>\n",
       "<tr>\n",
       "  <th>Covariance Type:</th>      <td>nonrobust</td>    <th>                     </th>     <td> </td>    \n",
       "</tr>\n",
       "</table>\n",
       "<table class=\"simpletable\">\n",
       "<tr>\n",
       "       <td></td>         <th>coef</th>     <th>std err</th>      <th>t</th>      <th>P>|t|</th>  <th>[0.025</th>    <th>0.975]</th>  \n",
       "</tr>\n",
       "<tr>\n",
       "  <th>const</th>      <td>  692.5659</td> <td> 1416.702</td> <td>    0.489</td> <td> 0.625</td> <td>-2087.177</td> <td> 3472.308</td>\n",
       "</tr>\n",
       "<tr>\n",
       "  <th>Alter</th>      <td>  499.5016</td> <td>   40.136</td> <td>   12.445</td> <td> 0.000</td> <td>  420.750</td> <td>  578.253</td>\n",
       "</tr>\n",
       "<tr>\n",
       "  <th>Einkommen</th>  <td>    1.0485</td> <td>    0.029</td> <td>   35.925</td> <td> 0.000</td> <td>    0.991</td> <td>    1.106</td>\n",
       "</tr>\n",
       "<tr>\n",
       "  <th>Geschlecht</th> <td> 2214.9438</td> <td>  648.591</td> <td>    3.415</td> <td> 0.001</td> <td>  942.328</td> <td> 3487.559</td>\n",
       "</tr>\n",
       "</table>\n",
       "<table class=\"simpletable\">\n",
       "<tr>\n",
       "  <th>Omnibus:</th>       <td>40.847</td> <th>  Durbin-Watson:     </th> <td>   2.104</td>\n",
       "</tr>\n",
       "<tr>\n",
       "  <th>Prob(Omnibus):</th> <td> 0.000</td> <th>  Jarque-Bera (JB):  </th> <td>  79.427</td>\n",
       "</tr>\n",
       "<tr>\n",
       "  <th>Skew:</th>          <td> 0.244</td> <th>  Prob(JB):          </th> <td>5.66e-18</td>\n",
       "</tr>\n",
       "<tr>\n",
       "  <th>Kurtosis:</th>      <td> 4.220</td> <th>  Cond. No.          </th> <td>2.81e+05</td>\n",
       "</tr>\n",
       "</table><br/><br/>Notes:<br/>[1] Standard Errors assume that the covariance matrix of the errors is correctly specified.<br/>[2] The condition number is large, 2.81e+05. This might indicate that there are<br/>strong multicollinearity or other numerical problems."
      ],
      "text/plain": [
       "<IPython.core.display.HTML object>"
      ]
     },
     "metadata": {},
     "output_type": "display_data"
    }
   ],
   "source": [
    "# Unabhängige Variablen auswählen\n",
    "X_ml = df_verk[['Alter', 'Einkommen', 'Geschlecht']]\n",
    "X_ml = sm.add_constant(X_ml)  # Konstante hinzufügen\n",
    "\n",
    "# Abhängige Variable\n",
    "y_ml = df_verk['Preis']\n",
    "\n",
    "# Regression schätzen\n",
    "model = sm.OLS(y_ml, X_ml).fit()\n",
    "\n",
    "# Summary in HTML rendern und anzeigen\n",
    "html_summary = model.summary().as_html()\n",
    "display(my_html(html_summary))"
   ]
  },
  {
   "cell_type": "markdown",
   "id": "63e1083a-f85c-4578-ba91-dc72570ad7a5",
   "metadata": {
    "slideshow": {
     "slide_type": "subslide"
    },
    "tags": []
   },
   "source": [
    "### F15: Prognostizieren Sie den Kaufpreis eines unserer Autos für einen männlichen Kunden im Alter von 32 Jahren mit einem Einkommen von 30.000 Euro. Prognostizieren Sie den Kaufpreis eines unserer Autos für einen männlichen Kunden im Alter von 51 Jahren und mit einem Einkommen von 54.000 Euro."
   ]
  },
  {
   "cell_type": "markdown",
   "id": "b9a81379-370c-4d70-9e30-52064df9d551",
   "metadata": {
    "slideshow": {
     "slide_type": "fragment"
    },
    "tags": []
   },
   "source": [
    "```python\n",
    "# Prognose 1 (Preis): Alter 32, Geschlecht 1, Einkommen 30000\n",
    "X_predict1_ml = pd.DataFrame({'Alter': [32], 'Einkommen': [30000], 'Geschlecht': [1]})\n",
    "X_predict1_ml = sm.add_constant(X_predict1_ml, has_constant='add')\n",
    "prediction1_ml = model.predict(X_predict1_ml)\n",
    "\n",
    "# Prognose 2 (Preis): Alter 51, Geschlecht 1, Einkommen 54000\n",
    "X_predict2_ml = pd.DataFrame({'Alter': [51], 'Einkommen': [54000], 'Geschlecht': [1]})\n",
    "X_predict2_ml = sm.add_constant(X_predict2_ml, has_constant='add')\n",
    "prediction2_ml = model.predict(X_predict2_ml)\n",
    "```"
   ]
  },
  {
   "cell_type": "code",
   "execution_count": 41,
   "id": "b2ff44d9-287f-487f-9752-839616792dec",
   "metadata": {
    "slideshow": {
     "slide_type": "fragment"
    },
    "tags": []
   },
   "outputs": [
    {
     "name": "stdout",
     "output_type": "stream",
     "text": [
      "Für einen männlichen Kunden im Alter von 32 Jahren, mit einem Einkommen von 30.000 Euro,\n",
      "beträgt der prognostizierte Kaufpreis eines Autos 50345.86 EUR\n",
      "\n",
      "Für einen männlichen Kunden im Alter von 51 Jahren, mit einem Einkommen von 54.000 Euro,\n",
      "beträgt der prognostizierte Kaufpreis eines Autos 84999.83 EUR\n"
     ]
    }
   ],
   "source": [
    "# Prognose 1 (Preis): Alter 32, Geschlecht 1, Einkommen 30000\n",
    "X_predict1_ml = pd.DataFrame({'Alter': [32], 'Einkommen': [30000], 'Geschlecht': [1]})\n",
    "X_predict1_ml = sm.add_constant(X_predict1_ml, has_constant='add')\n",
    "prediction1_ml = model.predict(X_predict1_ml)\n",
    "print(f'''Für einen männlichen Kunden im Alter von 32 Jahren, mit einem Einkommen von 30.000 Euro,\n",
    "beträgt der prognostizierte Kaufpreis eines Autos {prediction1_ml.iloc[0]:.2f} EUR\\n''')\n",
    "\n",
    "# Prognose 2 (Preis): Alter 51, Geschlecht 1, Einkommen 54000\n",
    "X_predict2_ml = pd.DataFrame({'Alter': [51], 'Einkommen': [54000], 'Geschlecht': [1]})\n",
    "X_predict2_ml = sm.add_constant(X_predict2_ml, has_constant='add')\n",
    "prediction2_ml = model.predict(X_predict2_ml)\n",
    "print(f'''Für einen männlichen Kunden im Alter von 51 Jahren, mit einem Einkommen von 54.000 Euro,\n",
    "beträgt der prognostizierte Kaufpreis eines Autos {prediction2_ml.iloc[0]:.2f} EUR''')"
   ]
  },
  {
   "cell_type": "markdown",
   "id": "9c0c6a3c-197b-4ca0-acb9-8b75272590ee",
   "metadata": {
    "slideshow": {
     "slide_type": "subslide"
    },
    "tags": []
   },
   "source": [
    "### F16: In Bezug auf die vorherige Frage: Welche Variable beeinflusst den Preis des Autos am meisten? Mit anderen Worten: Die von Ihnen geschätzten Regressionskoeffizienten müssen direkt vergleichbar sein. Wie sollen die Daten transformiert werden?\n",
    "#### Sie müssen die standardisierten Koeffizienten schätzen."
   ]
  },
  {
   "cell_type": "markdown",
   "id": "b51dcc33-b1ee-4ebd-8f5f-027f61102451",
   "metadata": {
    "slideshow": {
     "slide_type": "fragment"
    },
    "tags": []
   },
   "source": [
    "```python\n",
    "# Daten standardisieren\n",
    "df_verk_stand = df_verk.copy()\n",
    "df_verk_x = df_verk[['Alter', 'Einkommen', 'Geschlecht']]\n",
    "df_verk_mu = df_verk[['Alter', 'Einkommen', 'Geschlecht']].mean()\n",
    "df_verk_sd = df_verk[['Alter', 'Einkommen', 'Geschlecht']].std()\n",
    "df_verk_stand[['Alter', 'Einkommen', 'Geschlecht']] = (df_verk_x - df_verk_mu) / df_verk_sd\n",
    "\n",
    "# Unabhängige Variablen auswählen\n",
    "X_stand = df_verk_stand[['Alter', 'Einkommen', 'Geschlecht']]\n",
    "X_stand = sm.add_constant(X_stand)  # Konstante hinzufügen\n",
    "\n",
    "# Regression mit standardisierten Variablen schätzen\n",
    "model_stand = sm.OLS(y_ml, X_stand).fit()\n",
    "```"
   ]
  },
  {
   "cell_type": "code",
   "execution_count": 42,
   "id": "46117970-c30d-432b-aac9-64b26f10c9bb",
   "metadata": {
    "slideshow": {
     "slide_type": "subslide"
    },
    "tags": []
   },
   "outputs": [
    {
     "data": {
      "text/html": [
       "<table class=\"simpletable\">\n",
       "<caption>OLS Regression Results</caption>\n",
       "<tr>\n",
       "  <th>Dep. Variable:</th>          <td>Preis</td>      <th>  R-squared:         </th> <td>   0.822</td> \n",
       "</tr>\n",
       "<tr>\n",
       "  <th>Model:</th>                   <td>OLS</td>       <th>  Adj. R-squared:    </th> <td>   0.821</td> \n",
       "</tr>\n",
       "<tr>\n",
       "  <th>Method:</th>             <td>Least Squares</td>  <th>  F-statistic:       </th> <td>   1692.</td> \n",
       "</tr>\n",
       "<tr>\n",
       "  <th>Date:</th>             <td>Thu, 27 Jun 2024</td> <th>  Prob (F-statistic):</th>  <td>  0.00</td>  \n",
       "</tr>\n",
       "<tr>\n",
       "  <th>Time:</th>                 <td>22:43:22</td>     <th>  Log-Likelihood:    </th> <td> -11770.</td> \n",
       "</tr>\n",
       "<tr>\n",
       "  <th>No. Observations:</th>      <td>  1104</td>      <th>  AIC:               </th> <td>2.355e+04</td>\n",
       "</tr>\n",
       "<tr>\n",
       "  <th>Df Residuals:</th>          <td>  1100</td>      <th>  BIC:               </th> <td>2.357e+04</td>\n",
       "</tr>\n",
       "<tr>\n",
       "  <th>Df Model:</th>              <td>     3</td>      <th>                     </th>     <td> </td>    \n",
       "</tr>\n",
       "<tr>\n",
       "  <th>Covariance Type:</th>      <td>nonrobust</td>    <th>                     </th>     <td> </td>    \n",
       "</tr>\n",
       "</table>\n",
       "<table class=\"simpletable\">\n",
       "<tr>\n",
       "       <td></td>         <th>coef</th>     <th>std err</th>      <th>t</th>      <th>P>|t|</th>  <th>[0.025</th>    <th>0.975]</th>  \n",
       "</tr>\n",
       "<tr>\n",
       "  <th>const</th>      <td> 8.898e+04</td> <td>  311.177</td> <td>  285.931</td> <td> 0.000</td> <td> 8.84e+04</td> <td> 8.96e+04</td>\n",
       "</tr>\n",
       "<tr>\n",
       "  <th>Alter</th>      <td> 5969.7561</td> <td>  479.680</td> <td>   12.445</td> <td> 0.000</td> <td> 5028.565</td> <td> 6910.947</td>\n",
       "</tr>\n",
       "<tr>\n",
       "  <th>Einkommen</th>  <td> 1.724e+04</td> <td>  479.905</td> <td>   35.925</td> <td> 0.000</td> <td> 1.63e+04</td> <td> 1.82e+04</td>\n",
       "</tr>\n",
       "<tr>\n",
       "  <th>Geschlecht</th> <td> 1063.9821</td> <td>  311.561</td> <td>    3.415</td> <td> 0.001</td> <td>  452.662</td> <td> 1675.302</td>\n",
       "</tr>\n",
       "</table>\n",
       "<table class=\"simpletable\">\n",
       "<tr>\n",
       "  <th>Omnibus:</th>       <td>40.847</td> <th>  Durbin-Watson:     </th> <td>   2.104</td>\n",
       "</tr>\n",
       "<tr>\n",
       "  <th>Prob(Omnibus):</th> <td> 0.000</td> <th>  Jarque-Bera (JB):  </th> <td>  79.427</td>\n",
       "</tr>\n",
       "<tr>\n",
       "  <th>Skew:</th>          <td> 0.244</td> <th>  Prob(JB):          </th> <td>5.66e-18</td>\n",
       "</tr>\n",
       "<tr>\n",
       "  <th>Kurtosis:</th>      <td> 4.220</td> <th>  Cond. No.          </th> <td>    2.71</td>\n",
       "</tr>\n",
       "</table><br/><br/>Notes:<br/>[1] Standard Errors assume that the covariance matrix of the errors is correctly specified."
      ],
      "text/plain": [
       "<IPython.core.display.HTML object>"
      ]
     },
     "metadata": {},
     "output_type": "display_data"
    }
   ],
   "source": [
    "# Daten standardisieren\n",
    "df_verk_stand = df_verk.copy()\n",
    "df_verk_x = df_verk[['Alter', 'Einkommen', 'Geschlecht']]\n",
    "df_verk_mu = df_verk[['Alter', 'Einkommen', 'Geschlecht']].mean()\n",
    "df_verk_sd = df_verk[['Alter', 'Einkommen', 'Geschlecht']].std()\n",
    "df_verk_stand[['Alter', 'Einkommen', 'Geschlecht']] = (df_verk_x - df_verk_mu) / df_verk_sd\n",
    "\n",
    "# Unabhängige Variablen auswählen\n",
    "X_stand = df_verk_stand[['Alter', 'Einkommen', 'Geschlecht']]\n",
    "X_stand = sm.add_constant(X_stand)  # Konstante hinzufügen\n",
    "\n",
    "# Regression mit standardisierten Variablen schätzen\n",
    "model_stand = sm.OLS(y_ml, X_stand).fit()\n",
    "\n",
    "# Summary in HTML rendern und anzeigen\n",
    "html_summary = model_stand.summary().as_html()\n",
    "display(my_html(html_summary))"
   ]
  },
  {
   "cell_type": "markdown",
   "id": "4387b092-2c6f-46c3-ba20-0868d3e6206d",
   "metadata": {
    "slideshow": {
     "slide_type": "subslide"
    },
    "tags": []
   },
   "source": [
    "### F17: Schätzen Sie eine Regression, die die Wahrscheinlichkeit des Kaufs eines Autos ermittelt. Verwenden Sie die entsprechende Methode.\n",
    "#### Sie müssen eine logistische Regression durchführen."
   ]
  },
  {
   "cell_type": "markdown",
   "id": "a54c5bf7-eee5-40f1-8fb2-5530c2d23fdc",
   "metadata": {
    "slideshow": {
     "slide_type": "fragment"
    },
    "tags": []
   },
   "source": [
    "```python\n",
    "# Logistische Regression\n",
    "y_lg = df_gesamt['Kunde']\n",
    "X_lg = df_gesamt[['Alter', 'Einkommen', 'Geschlecht', 'Zeit']]\n",
    "X_lg = sm.add_constant(X_lg)\n",
    "\n",
    "model_lg = sm.Logit(y_lg, X_lg).fit()\n",
    "print(model_lg.summary())\n",
    "```"
   ]
  },
  {
   "cell_type": "code",
   "execution_count": 43,
   "id": "3ce5b7be-69b0-4854-bb75-bb411e48ca87",
   "metadata": {
    "slideshow": {
     "slide_type": "subslide"
    },
    "tags": []
   },
   "outputs": [
    {
     "name": "stdout",
     "output_type": "stream",
     "text": [
      "Optimization terminated successfully.\n",
      "         Current function value: 0.578825\n",
      "         Iterations 6\n"
     ]
    },
    {
     "data": {
      "text/html": [
       "<table class=\"simpletable\">\n",
       "<caption>Logit Regression Results</caption>\n",
       "<tr>\n",
       "  <th>Dep. Variable:</th>         <td>Kunde</td>      <th>  No. Observations:  </th>  <td>  1995</td>  \n",
       "</tr>\n",
       "<tr>\n",
       "  <th>Model:</th>                 <td>Logit</td>      <th>  Df Residuals:      </th>  <td>  1990</td>  \n",
       "</tr>\n",
       "<tr>\n",
       "  <th>Method:</th>                 <td>MLE</td>       <th>  Df Model:          </th>  <td>     4</td>  \n",
       "</tr>\n",
       "<tr>\n",
       "  <th>Date:</th>            <td>Thu, 27 Jun 2024</td> <th>  Pseudo R-squ.:     </th>  <td>0.1580</td>  \n",
       "</tr>\n",
       "<tr>\n",
       "  <th>Time:</th>                <td>22:43:22</td>     <th>  Log-Likelihood:    </th> <td> -1154.8</td> \n",
       "</tr>\n",
       "<tr>\n",
       "  <th>converged:</th>             <td>True</td>       <th>  LL-Null:           </th> <td> -1371.4</td> \n",
       "</tr>\n",
       "<tr>\n",
       "  <th>Covariance Type:</th>     <td>nonrobust</td>    <th>  LLR p-value:       </th> <td>1.715e-92</td>\n",
       "</tr>\n",
       "</table>\n",
       "<table class=\"simpletable\">\n",
       "<tr>\n",
       "       <td></td>         <th>coef</th>     <th>std err</th>      <th>z</th>      <th>P>|z|</th>  <th>[0.025</th>    <th>0.975]</th>  \n",
       "</tr>\n",
       "<tr>\n",
       "  <th>const</th>      <td>   -2.4360</td> <td>    0.264</td> <td>   -9.242</td> <td> 0.000</td> <td>   -2.953</td> <td>   -1.919</td>\n",
       "</tr>\n",
       "<tr>\n",
       "  <th>Alter</th>      <td>    0.0183</td> <td>    0.007</td> <td>    2.662</td> <td> 0.008</td> <td>    0.005</td> <td>    0.032</td>\n",
       "</tr>\n",
       "<tr>\n",
       "  <th>Einkommen</th>  <td>-4.243e-05</td> <td> 5.44e-06</td> <td>   -7.801</td> <td> 0.000</td> <td>-5.31e-05</td> <td>-3.18e-05</td>\n",
       "</tr>\n",
       "<tr>\n",
       "  <th>Geschlecht</th> <td>    0.2455</td> <td>    0.103</td> <td>    2.383</td> <td> 0.017</td> <td>    0.044</td> <td>    0.447</td>\n",
       "</tr>\n",
       "<tr>\n",
       "  <th>Zeit</th>       <td>    0.1022</td> <td>    0.006</td> <td>   17.535</td> <td> 0.000</td> <td>    0.091</td> <td>    0.114</td>\n",
       "</tr>\n",
       "</table>"
      ],
      "text/plain": [
       "<IPython.core.display.HTML object>"
      ]
     },
     "metadata": {},
     "output_type": "display_data"
    }
   ],
   "source": [
    "# Logistische Regression\n",
    "y_lg = df_gesamt['Kunde']\n",
    "X_lg = df_gesamt[['Alter', 'Einkommen', 'Geschlecht', 'Zeit']]\n",
    "X_lg = sm.add_constant(X_lg)\n",
    "\n",
    "model_lg = sm.Logit(y_lg, X_lg).fit()\n",
    "\n",
    "# Summary in HTML rendern und anzeigen\n",
    "html_summary = model_lg.summary().as_html()\n",
    "display(my_html(html_summary))"
   ]
  },
  {
   "cell_type": "markdown",
   "id": "1e4b5386-2478-45c3-a363-269e048b7224",
   "metadata": {
    "slideshow": {
     "slide_type": "subslide"
    },
    "tags": []
   },
   "source": [
    "### F18: Wie hoch ist die Wahrscheinlichkeit, dass ein 32-jähriger männlicher Kunde mit einem Einkommen von 30.000 Euro, der das Auto 30 Minuten lang getestet hat, eines unserer Modelle kauft? Wie hoch ist die Wahrscheinlichkeit, dass ein 51-jähriger männlicher Kunde mit einem Einkommen von 54.000 Euro, der das Auto 45 Minuten lang getestet hat, eines unserer Modelle kauft?"
   ]
  },
  {
   "cell_type": "markdown",
   "id": "abf53500-6067-4ea9-8965-22f4133e2f68",
   "metadata": {
    "slideshow": {
     "slide_type": "fragment"
    },
    "tags": []
   },
   "source": [
    "```python\n",
    "# Prognose 1 (Kaufwahrscheinlichkeit) Alter 32, Einkommen 30000, Geschlecht 1, Zeit 30\n",
    "X_predict1_lg = pd.DataFrame({'Alter': [32], 'Einkommen': [30000], 'Geschlecht': [1], 'Zeit': [30]})\n",
    "X_predict1_lg = sm.add_constant(X_predict1_lg, has_constant='add')\n",
    "prediction1_lg = model_lg.predict(X_predict1_lg)\n",
    "\n",
    "# Prognose 2 (Kaufwahrscheinlichkeit) Alter 51, Einkommen 54000, Geschlecht 1, Zeit 45\n",
    "X_predict2_lg = pd.DataFrame({'Alter': [51], 'Einkommen': [54000], 'Geschlecht': [1], 'Zeit': [45]})\n",
    "X_predict2_lg = sm.add_constant(X_predict2_lg, has_constant='add')\n",
    "prediction2_lg = model_lg.predict(X_predict2_lg)\n",
    "```"
   ]
  },
  {
   "cell_type": "code",
   "execution_count": 44,
   "id": "0fd8dde2-e481-41b4-bf00-11209b5e4031",
   "metadata": {
    "slideshow": {
     "slide_type": "subslide"
    },
    "tags": []
   },
   "outputs": [
    {
     "name": "stdout",
     "output_type": "stream",
     "text": [
      "Für einen männlichen Kunden im Alter von 32 Jahren, mit einem Einkommen von 30.000 Euro und einer Testzeit von 30 Minuten,\n",
      "beträgt die prognostizierte Kaufwahrscheinlichkeit eines Autos 54.65 Prozent.\n",
      "\n",
      "Für einen männlichen Kunden im Alter von 51 Jahren, mit einem Einkommen von 54.000 Euro und einer Testzeit von 45 Minuten,\n",
      "beträgt die prognostizierte Kaufwahrscheinlichkeit eines Autos 74.04 Prozent.\n"
     ]
    }
   ],
   "source": [
    "# Prognose 1 (Kaufwahrscheinlichkeit) Alter 32, Einkommen 30000, Geschlecht 1, Zeit 30\n",
    "X_predict1_lg = pd.DataFrame({'Alter': [32], 'Einkommen': [30000], 'Geschlecht': [1], 'Zeit': [30]})\n",
    "X_predict1_lg = sm.add_constant(X_predict1_lg, has_constant='add')\n",
    "prediction1_lg = model_lg.predict(X_predict1_lg)\n",
    "print(f'''Für einen männlichen Kunden im Alter von 32 Jahren, mit einem Einkommen von 30.000 Euro und einer Testzeit von 30 Minuten,\n",
    "beträgt die prognostizierte Kaufwahrscheinlichkeit eines Autos {100*prediction1_lg.iloc[0]:.2f} Prozent.\\n''')\n",
    "\n",
    "# Prognose 2 (Kaufwahrscheinlichkeit) Alter 51, Einkommen 54000, Geschlecht 1, Zeit 45\n",
    "X_predict2_lg = pd.DataFrame({'Alter': [51], 'Einkommen': [54000], 'Geschlecht': [1], 'Zeit': [45]})\n",
    "X_predict2_lg = sm.add_constant(X_predict2_lg, has_constant='add')\n",
    "prediction2_lg = model_lg.predict(X_predict2_lg)\n",
    "print(f'''Für einen männlichen Kunden im Alter von 51 Jahren, mit einem Einkommen von 54.000 Euro und einer Testzeit von 45 Minuten,\n",
    "beträgt die prognostizierte Kaufwahrscheinlichkeit eines Autos {100*prediction2_lg.iloc[0]:.2f} Prozent.''')"
   ]
  },
  {
   "cell_type": "markdown",
   "id": "cf33f813-fbec-4e72-9e52-56b87f0c6d66",
   "metadata": {
    "editable": true,
    "slideshow": {
     "slide_type": "slide"
    },
    "tags": []
   },
   "source": [
    "# Probleme"
   ]
  },
  {
   "cell_type": "markdown",
   "id": "d25804e9-0a04-4c32-b978-89ae54a26e73",
   "metadata": {
    "editable": true,
    "slideshow": {
     "slide_type": "subslide"
    },
    "tags": []
   },
   "source": [
    "## F19: Auf welche Probleme sind Sie bei der Zusammenführung des Datensatzes gestoßen? Stellen Sie die Operationen vor, die Sie zum Zusammenführen und Bereinigen der Daten durchgeführt haben."
   ]
  },
  {
   "cell_type": "markdown",
   "id": "60ba2e14-18c6-4d79-91cd-1a74ecb56c18",
   "metadata": {
    "editable": true,
    "slideshow": {
     "slide_type": "subslide"
    },
    "tags": []
   },
   "source": [
    "### Es gab leere Einträge beim Geschlecht im Datensatz Kunden.csv"
   ]
  },
  {
   "cell_type": "markdown",
   "id": "f8a176e2-4a3a-46ec-8923-f2d1c328ce8c",
   "metadata": {
    "editable": true,
    "slideshow": {
     "slide_type": "fragment"
    },
    "tags": []
   },
   "source": [
    "```python\n",
    "# Identifizieren der leeren Einträge im Datensatz Kunden.csv\n",
    "html_ausgabe = pandas_to_html(df_kunden.isnull().sum(), 'Anzahl fehlender Werte')\n",
    "display(my_html(html_ausgabe))\n",
    "\n",
    "# Ersetze alle leeren Einträge in der Spalte \"Geschlecht\" mit dem Modus der Werte in der Spalte \"Geschlecht\"\n",
    "df_kunden['Geschlecht'].fillna(geschlecht_mode, inplace=True)\n",
    "```"
   ]
  },
  {
   "cell_type": "markdown",
   "id": "bcf4c008-64fe-43c8-bdfc-24f422f3587c",
   "metadata": {
    "editable": true,
    "slideshow": {
     "slide_type": "subslide"
    },
    "tags": []
   },
   "source": [
    "### Die Daten für das Geschlecht im Datensatz Kunden.csv wurde als Datentyp float angegeben"
   ]
  },
  {
   "cell_type": "markdown",
   "id": "bd1e8920-d2c9-41fd-92cd-ba0747ecff9d",
   "metadata": {
    "editable": true,
    "slideshow": {
     "slide_type": "fragment"
    },
    "tags": []
   },
   "source": [
    "``` python\n",
    "# Konvertiere die Spalte \"Geschlecht\" in den Integer-Datentyp\n",
    "df_kunden['Geschlecht'] = df_kunden['Geschlecht'].astype(int).')\n",
    "```"
   ]
  },
  {
   "cell_type": "markdown",
   "id": "4523ed0b-c548-4272-b2c4-b548a903d299",
   "metadata": {
    "editable": true,
    "slideshow": {
     "slide_type": "subslide"
    },
    "tags": []
   },
   "source": [
    "### Es gab Ausreißer im Datensatz Kunden beim Einkommen"
   ]
  },
  {
   "cell_type": "markdown",
   "id": "1ce4add7-bd8b-47d3-8420-45bdc57354c5",
   "metadata": {
    "editable": true,
    "slideshow": {
     "slide_type": "fragment"
    },
    "tags": []
   },
   "source": [
    "```python\n",
    "# Berechne den Median für die Werte in der Spalte \"Einkommen\"\n",
    "eink_median = df_kunden['Einkommen'].median()\n",
    "\n",
    "# Entfernen der Ausreißer in der Spalte \"Alter\":\n",
    "# Berechnung von alt_Q1 (25. Perzentil), alt_Q3 (75. Perzentil) und alt_IQR\n",
    "alt_Q1 = df_kunden['Alter'].quantile(0.25)\n",
    "alt_Q3 = df_kunden['Alter'].quantile(0.75)\n",
    "alt_IQR = alt_Q3 - alt_Q1\n",
    "\n",
    "# Berechnung der Ausreißer-Grenzen\n",
    "alt_untere_grenze = alt_Q1 - 1.5 * alt_IQR\n",
    "alt_obere_grenze = alt_Q3 + 1.5 * alt_IQR\n",
    "\n",
    "# Identifizierung von Ausreißern\n",
    "df_kunden['Ausreißer'] = (df_kunden['Alter'] < alt_untere_grenze) | (df_kunden['Alter'] > alt_ob\n",
    "\n",
    "# Ersetze Ausreißer mit dem Median der Spalte \"Einkommen\"\n",
    "df_kunden.loc[df_kunden['Ausreißer'] == True, 'Einkommen'] = eink_median\n",
    "ere_grenze)"
   ]
  },
  {
   "cell_type": "markdown",
   "id": "385a5bf9-2202-4d0b-b318-5d5dfd714c0f",
   "metadata": {
    "editable": true,
    "slideshow": {
     "slide_type": "subslide"
    },
    "tags": []
   },
   "source": [
    "### Es gab mehrere Ausreißer beim Alter der Kunden im Datensatz Kunden.csv"
   ]
  },
  {
   "cell_type": "markdown",
   "id": "edc9038a-98c8-445e-9ae2-0a27753b197f",
   "metadata": {
    "editable": true,
    "slideshow": {
     "slide_type": "fragment"
    },
    "tags": []
   },
   "source": [
    "```python\n",
    "# Ersetze Ausreißer mit dem Median der Spalte \"Alter\"\n",
    "df_kunden.loc[df_kunden['Ausreißer'] == True, 'Alter'] = alt_median"
   ]
  },
  {
   "cell_type": "markdown",
   "id": "2440cc09-af15-4450-8c3b-ad57453fa10b",
   "metadata": {
    "editable": true,
    "slideshow": {
     "slide_type": "subslide"
    },
    "tags": []
   },
   "source": [
    "### Es gab jeweils unterschiedliche Bezeichnungen in dem Datensatz geo.txt für die Bundesländer Nordrheinwest-Westfahlen und Berlin"
   ]
  },
  {
   "cell_type": "markdown",
   "id": "6c0fb19e-fc9c-49d2-8274-688554937e35",
   "metadata": {
    "editable": true,
    "slideshow": {
     "slide_type": "fragment"
    },
    "tags": []
   },
   "source": [
    "```python\n",
    "# Ersetze alle Einträge, die \"NRW\" in der Spalte \"Niederlassung\" enthalten, mit \"Nordrhein-Westfalen\"\n",
    "df_geo['Niederlassung'] = df_geo['Niederlassung'].apply(lambda x: 'Nordrhein-Westfalen' if 'nrw' in x.lower() or 'düsseldorf' in x.lower() else x)\n",
    "\n",
    "# Ersetze alle Einträge, die \"Berlin\" in der Spalte \"Niederlassung\" enthalten, mit \"Berlin\"\n",
    "df_geo['Niederlassung'] = df_geo['Niederlassung'].apply(lambda x: 'Berlin' if 'berlin' in x.lower() else x)"
   ]
  },
  {
   "cell_type": "markdown",
   "id": "b13d1350-c5be-4379-8d0e-3475dadc2bd3",
   "metadata": {
    "editable": true,
    "slideshow": {
     "slide_type": "slide"
    },
    "tags": []
   },
   "source": [
    "# Vorschläge"
   ]
  },
  {
   "cell_type": "markdown",
   "id": "d33b875a-82a2-414f-8dea-1abe3af6c641",
   "metadata": {
    "editable": true,
    "slideshow": {
     "slide_type": "subslide"
    },
    "tags": []
   },
   "source": [
    "### F20. Welche Vorschläge würden Sie der Kundenabteilung für die Umfrage im nächsten Jahr machen? Welche zusätzlichen Informationen sollten gesammelt werden? Formulieren Sie zwei Vorschläge."
   ]
  },
  {
   "cell_type": "markdown",
   "id": "619d0e0f-5284-4441-bcec-dde994b03f02",
   "metadata": {
    "editable": true,
    "slideshow": {
     "slide_type": "fragment"
    },
    "tags": []
   },
   "source": [
    "### Vorgehensweise:"
   ]
  },
  {
   "cell_type": "markdown",
   "id": "eaf2cac8-8b01-4ebe-ac5f-81fa0d63195e",
   "metadata": {
    "editable": true,
    "slideshow": {
     "slide_type": "fragment"
    },
    "tags": []
   },
   "source": [
    "\n",
    "- Sauberkeit der Daten beachten, Fehlerquellen verhinden\n",
    "- Liste mit Eindeutigen Bezeichnungen für Niederlassung (z.B. als dropdown) verwenden\n"
   ]
  },
  {
   "cell_type": "markdown",
   "id": "b68c354a-b8b2-4669-a014-4fc6cfaab1e2",
   "metadata": {
    "editable": true,
    "slideshow": {
     "slide_type": "subslide"
    },
    "tags": []
   },
   "source": [
    "### Vorschlag 1 für zusätzliche Informationen:"
   ]
  },
  {
   "cell_type": "markdown",
   "id": "21892e57-ddfd-494d-8ff8-90c52f1af45b",
   "metadata": {
    "editable": true,
    "slideshow": {
     "slide_type": "fragment"
    },
    "tags": []
   },
   "source": [
    "\n",
    "- Welche Informationsquellen wurden für den Kauf genutzt (Empfehlungen von Freunde/Familie, Soziale Medien, Werbung (TV, Radio, Internet, Printmedien, ...))\n"
   ]
  },
  {
   "cell_type": "markdown",
   "id": "47f86fcc-a97d-47bd-b054-3fcb8173aaa5",
   "metadata": {
    "editable": true,
    "slideshow": {
     "slide_type": "subslide"
    },
    "tags": []
   },
   "source": [
    "### Vorschlag 2 für zusätzliche Informationen:"
   ]
  },
  {
   "cell_type": "markdown",
   "id": "6cc60a97-8516-4eee-a503-ec0bcd97ab3a",
   "metadata": {
    "editable": true,
    "slideshow": {
     "slide_type": "fragment"
    },
    "tags": []
   },
   "source": [
    "- Hauptgründe für die Kaufentscheidung (z.B. Preis, Marke, Ausstattung, Qualität, Umweltaspekte, ...)"
   ]
  },
  {
   "cell_type": "markdown",
   "id": "355a5258-b8f9-4e89-bb93-475f4999c1b9",
   "metadata": {
    "editable": true,
    "slideshow": {
     "slide_type": "slide"
    },
    "tags": []
   },
   "source": [
    "# CEO"
   ]
  },
  {
   "cell_type": "markdown",
   "id": "9fd70478-3ea1-4999-82ac-b8dda5e2817b",
   "metadata": {
    "editable": true,
    "slideshow": {
     "slide_type": "subslide"
    },
    "tags": []
   },
   "source": [
    "## Anzahl der Verkäufe pro Bundesland"
   ]
  },
  {
   "cell_type": "code",
   "execution_count": 45,
   "id": "d2092ef8",
   "metadata": {
    "editable": true,
    "slideshow": {
     "slide_type": "fragment"
    },
    "tags": []
   },
   "outputs": [
    {
     "data": {
      "image/png": "[encoded data removed]",
      "text/plain": [
       "<Figure size 1200x600 with 1 Axes>"
      ]
     },
     "metadata": {},
     "output_type": "display_data"
    }
   ],
   "source": [
    "# Nach der Höhe sortieren und in eine neue Liste \"anz_verk_sort\" speichern\n",
    "anz_verk_sort = anz_verk_niederl.sort_values(ascending=False)\n",
    "\n",
    "# Erstellen und Anzeigen des Seaborn Balkendiagramms\n",
    "plt.figure(figsize=(12, 6))\n",
    "sns.barplot(x=anz_verk_sort.index, y=anz_verk_sort.values, palette='viridis')\n",
    "\n",
    "# Diagramm beschriften\n",
    "plt.title('Anzahl der Verkäufe pro Bundesland')\n",
    "plt.xlabel('Bundesland')\n",
    "plt.ylabel('Anzahl der Verkäufe')\n",
    "\n",
    "# Achsenticks rotieren, wenn notwendig\n",
    "plt.xticks(rotation=45)\n",
    "\n",
    "# Diagramm speichern\n",
    "plt.savefig('images/barplot_verk_bundesl.png')\n",
    "# Diagramm anzeigen\n",
    "plt.show()"
   ]
  },
  {
   "cell_type": "markdown",
   "id": "60cddf8c-b260-403c-9664-78a1fa1221e9",
   "metadata": {
    "editable": true,
    "slideshow": {
     "slide_type": "subslide"
    },
    "tags": []
   },
   "source": [
    "## Anzahl der Verkäufe pro Geschlecht"
   ]
  },
  {
   "cell_type": "code",
   "execution_count": 46,
   "id": "b6642e51",
   "metadata": {
    "editable": true,
    "slideshow": {
     "slide_type": "fragment"
    },
    "tags": []
   },
   "outputs": [
    {
     "name": "stdout",
     "output_type": "stream",
     "text": [
      "Die meisten Autos wurden von Männern gekauft,\n",
      "Sie haben 706 Autos gekauft.\n"
     ]
    },
    {
     "data": {
      "image/png": "[encoded data removed]",
      "text/plain": [
       "<Figure size 600x600 with 1 Axes>"
      ]
     },
     "metadata": {},
     "output_type": "display_data"
    }
   ],
   "source": [
    "print(f'''Die meisten Autos wurden von {max_geschl} gekauft,\n",
    "Sie haben {max_verk} Autos gekauft.''')\n",
    "\n",
    "# Erstellen und Anzeigen des Kreisdiagramms\n",
    "plt.figure(figsize=(6, 6))\n",
    "plt.pie(verk_pro_geschl, labels=['Frauen', 'Männer'],\n",
    "        autopct='%1.1f%%', startangle=140, \n",
    "        colors=sns.color_palette('viridis', len(verk_pro_geschl)))\n",
    "# Diagramm beschriften\n",
    "plt.title('Anzahl der Verkäufe pro Geschlecht')\n",
    "\n",
    "# Diagramm speichern\n",
    "plt.savefig('images/pie_verk_geschl.png')\n",
    "# Diagramm anzeigen\n",
    "plt.show()"
   ]
  },
  {
   "cell_type": "markdown",
   "id": "b940992a-dd12-4b80-bf64-5494d21c8e7e",
   "metadata": {
    "editable": true,
    "slideshow": {
     "slide_type": "subslide"
    },
    "tags": []
   },
   "source": [
    "## Verteilung des Alters von Kunden und Besuchern"
   ]
  },
  {
   "cell_type": "code",
   "execution_count": 47,
   "id": "35bebc08",
   "metadata": {
    "editable": true,
    "slideshow": {
     "slide_type": "fragment"
    },
    "tags": []
   },
   "outputs": [
    {
     "name": "stdout",
     "output_type": "stream",
     "text": [
      "Das Durchschnittsalter der Kunden ist 50.38 Jahre.\n",
      "Das Durchschnittsalter der Besucher ist 49.88 Jahre.\n",
      "\n"
     ]
    },
    {
     "data": {
      "image/png": "[encoded data removed]",
      "text/plain": [
       "<Figure size 600x400 with 1 Axes>"
      ]
     },
     "metadata": {},
     "output_type": "display_data"
    }
   ],
   "source": [
    "print(f'''Das Durchschnittsalter der Kunden ist {mittel_alt_kunden:.2f} Jahre.\n",
    "Das Durchschnittsalter der Besucher ist {mittel_alt_besucher:.2f} Jahre.\\n''')\n",
    "\n",
    "# Erstellen des Boxplots\n",
    "plt.figure(figsize=(6, 4))\n",
    "sns.boxplot(x='Kunde', y='Alter', data=df_gesamt, palette='viridis')\n",
    "\n",
    "# Beschriftung anpassen\n",
    "plt.xticks([0, 1], ['Besucher', 'Kunden'])\n",
    "plt.xlabel('Gruppe')\n",
    "plt.ylabel('Alter')\n",
    "plt.title('Verteilung des Alters von Kunden und Besuchern')\n",
    "\n",
    "# Diagramm speichern\n",
    "plt.savefig('images/boxplot_vert_alter.png')\n",
    "# Diagramm anzeigen\n",
    "plt.show()"
   ]
  },
  {
   "cell_type": "markdown",
   "id": "d92e93e3-7f98-4da3-9b54-7d53dea2c649",
   "metadata": {
    "editable": true,
    "slideshow": {
     "slide_type": "subslide"
    },
    "tags": []
   },
   "source": [
    "## Korrelation zwischen Alter, Einkommen, Preis und Zeit"
   ]
  },
  {
   "cell_type": "code",
   "execution_count": 48,
   "id": "e9875356",
   "metadata": {
    "editable": true,
    "slideshow": {
     "slide_type": "fragment"
    },
    "tags": []
   },
   "outputs": [
    {
     "data": {
      "image/png": "[encoded data removed]",
      "text/plain": [
       "<Figure size 600x400 with 2 Axes>"
      ]
     },
     "metadata": {},
     "output_type": "display_data"
    }
   ],
   "source": [
    "# Erstellen der Heatmap\n",
    "plt.figure(figsize=(6, 4))\n",
    "sns.heatmap(r, annot=True, cmap='viridis', vmin=-1, vmax=1, square=True)\n",
    "\n",
    "# Beschriftung anpassen\n",
    "plt.title('Pearson-Korrelation zwischen Alter, Einkommen, Preis und Zeit (Kunden)')\n",
    "\n",
    "# Diagramm speichern\n",
    "plt.savefig('images/heatmap_cor_alter_eink_preis_zeit.png')\n",
    "# Diagramm anzeigen\n",
    "plt.show()"
   ]
  },
  {
   "cell_type": "markdown",
   "id": "eb5c8d98-9906-4fa1-bf2c-48b8d94dd59e",
   "metadata": {
    "editable": true,
    "slideshow": {
     "slide_type": "slide"
    },
    "tags": []
   },
   "source": [
    "# Vielen Dank für Ihre Aufmerksamkeit 🐍 "
   ]
  }
 ],
 "metadata": {
  "kernelspec": {
   "display_name": "Python 3 (ipykernel)",
   "language": "python",
   "name": "python3"
  },
  "language_info": {
   "codemirror_mode": {
    "name": "ipython",
    "version": 3
   },
   "file_extension": ".py",
   "mimetype": "text/x-python",
   "name": "python",
   "nbconvert_exporter": "python",
   "pygments_lexer": "ipython3",
   "version": "3.11.7"
  }
 },
 "nbformat": 4,
 "nbformat_minor": 5
}
