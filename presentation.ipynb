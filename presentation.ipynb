{
 "cells": [
  {
   "cell_type": "markdown",
   "id": "3ab5a802-e3fb-41f8-b606-4ebf712b6403",
   "metadata": {},
   "source": [
    "## Abschlussproket\n",
    "# Einführung in Python für Data Analytics\n",
    "### Dozent: Dr. Alessandro Bramucci\n",
    "### Bearbeitung und Präsentation: Jonathan, Gregor, Sebastian"
   ]
  },
  {
   "cell_type": "markdown",
   "id": "dfef46c8-3334-4dff-8a6a-db76c2cb6d04",
   "metadata": {},
   "source": [
    "#### Import Libraries"
   ]
  },
  {
   "cell_type": "code",
   "execution_count": 2,
   "id": "ec269be2-0798-4801-b975-4aaf3e1203c9",
   "metadata": {},
   "outputs": [],
   "source": [
    "import pandas as pd\n",
    "import matplotlib.pyplot as plt"
   ]
  },
  {
   "cell_type": "markdown",
   "id": "80b72c68-cf63-4c67-bc79-315fa5c33a13",
   "metadata": {},
   "source": [
    "#### Import data"
   ]
  },
  {
   "cell_type": "code",
   "execution_count": 4,
   "id": "999f48d9-7a6c-4423-9959-74bc1c3105e5",
   "metadata": {},
   "outputs": [],
   "source": [
    "# speichere den relativen Pfad und den Dateinamen der Quelle \n",
    "file_besucher = 'data/besucher.csv'\n",
    "file_geo = 'data/geo.txt'\n",
    "file_kunden = 'data/kunden.csv'\n",
    "\n",
    "# importiere Daten aus der Quelle in Dataframes\n",
    "df_besucher = pd.read_csv(file_besucher, sep=\";\", decimal = ',')\n",
    "df_geo = pd.read_table(file_geo, decimal = '.')\n",
    "df_kunden = pd.read_csv(file_kunden, sep=\";\", decimal = '.')"
   ]
  },
  {
   "cell_type": "code",
   "execution_count": 6,
   "id": "7dfc0c41-93d9-4708-a345-b8ac174e9dee",
   "metadata": {},
   "outputs": [],
   "source": [
    "#df_kunden['Geschlecht'] = df_kunden.to_integer(df_kunden['Geschlecht'])\n",
    "df_kunden['Geschlecht'].fillna(2, inplace = True) \n",
    "df_kunden['Geschlecht'] = df_kunden['Geschlecht'].astype(int)"
   ]
  },
  {
   "cell_type": "code",
   "execution_count": 7,
   "id": "d52d0e2f-4e10-4ae3-afb8-40cfa36b197c",
   "metadata": {},
   "outputs": [],
   "source": [
    "for x in df_geo.index:\n",
    "    lower_niederlassung = df_geo.loc[x, 'Niederlassung'].lower()\n",
    "    if \"berlin\" in df_geo.loc[x, 'Niederlassung']:\n",
    "        print(df_geo.loc[x, 'Niederlassung'])\n",
    "        df_geo.loc[x, 'Niederlassung'] = \"Berlin\"\n",
    "        print(df_geo.loc[x, 'Niederlassung'])"
   ]
  },
  {
   "cell_type": "code",
   "execution_count": 15,
   "id": "8b5eef54-18da-4da6-8ae3-b8b63a2b9a34",
   "metadata": {},
   "outputs": [],
   "source": [
    "df_geo['Niederlassung'] = df_geo['Niederlassung'].apply(lambda x: 'Nordrhein-Westfalen' if 'NRW' in x else x)\n",
    "df_geo['Niederlassung'] = df_geo['Niederlassung'].apply(lambda x: 'Berlin' if 'Berlin' in x else x)"
   ]
  },
  {
   "cell_type": "code",
   "execution_count": 16,
   "id": "af9ad026-d070-4c62-acc5-5e8023d7f81d",
   "metadata": {},
   "outputs": [
    {
     "data": {
      "text/plain": [
       "Alter           int64\n",
       "Einkommen     float64\n",
       "Geschlecht      int64\n",
       "Zeit          float64\n",
       "KundeNr        object\n",
       "dtype: object"
      ]
     },
     "execution_count": 16,
     "metadata": {},
     "output_type": "execute_result"
    }
   ],
   "source": [
    "df_besucher.dtypes"
   ]
  },
  {
   "cell_type": "code",
   "execution_count": 17,
   "id": "461983f4-072f-4d5d-85f1-e51a9a8daa20",
   "metadata": {},
   "outputs": [
    {
     "data": {
      "text/html": [
       "<div>\n",
       "<style scoped>\n",
       "    .dataframe tbody tr th:only-of-type {\n",
       "        vertical-align: middle;\n",
       "    }\n",
       "\n",
       "    .dataframe tbody tr th {\n",
       "        vertical-align: top;\n",
       "    }\n",
       "\n",
       "    .dataframe thead th {\n",
       "        text-align: right;\n",
       "    }\n",
       "</style>\n",
       "<table border=\"1\" class=\"dataframe\">\n",
       "  <thead>\n",
       "    <tr style=\"text-align: right;\">\n",
       "      <th></th>\n",
       "      <th>Alter</th>\n",
       "      <th>Einkommen</th>\n",
       "      <th>Geschlecht</th>\n",
       "      <th>Zeit</th>\n",
       "      <th>KundeNr</th>\n",
       "    </tr>\n",
       "  </thead>\n",
       "  <tbody>\n",
       "    <tr>\n",
       "      <th>0</th>\n",
       "      <td>30</td>\n",
       "      <td>39919.095335</td>\n",
       "      <td>0</td>\n",
       "      <td>29.0</td>\n",
       "      <td>K1814</td>\n",
       "    </tr>\n",
       "    <tr>\n",
       "      <th>1</th>\n",
       "      <td>41</td>\n",
       "      <td>53430.673086</td>\n",
       "      <td>0</td>\n",
       "      <td>27.0</td>\n",
       "      <td>K1544</td>\n",
       "    </tr>\n",
       "    <tr>\n",
       "      <th>2</th>\n",
       "      <td>64</td>\n",
       "      <td>73163.216927</td>\n",
       "      <td>0</td>\n",
       "      <td>32.0</td>\n",
       "      <td>K1945</td>\n",
       "    </tr>\n",
       "    <tr>\n",
       "      <th>3</th>\n",
       "      <td>41</td>\n",
       "      <td>36761.482581</td>\n",
       "      <td>0</td>\n",
       "      <td>44.0</td>\n",
       "      <td>K1825</td>\n",
       "    </tr>\n",
       "    <tr>\n",
       "      <th>4</th>\n",
       "      <td>35</td>\n",
       "      <td>42684.331632</td>\n",
       "      <td>1</td>\n",
       "      <td>33.0</td>\n",
       "      <td>K1144</td>\n",
       "    </tr>\n",
       "  </tbody>\n",
       "</table>\n",
       "</div>"
      ],
      "text/plain": [
       "   Alter     Einkommen  Geschlecht  Zeit KundeNr\n",
       "0     30  39919.095335           0  29.0   K1814\n",
       "1     41  53430.673086           0  27.0   K1544\n",
       "2     64  73163.216927           0  32.0   K1945\n",
       "3     41  36761.482581           0  44.0   K1825\n",
       "4     35  42684.331632           1  33.0   K1144"
      ]
     },
     "execution_count": 17,
     "metadata": {},
     "output_type": "execute_result"
    }
   ],
   "source": [
    "df_besucher.head(5)"
   ]
  },
  {
   "cell_type": "code",
   "execution_count": 18,
   "id": "a774059c-2a05-40c5-a57e-71adee07ab58",
   "metadata": {},
   "outputs": [
    {
     "data": {
      "text/plain": [
       "KundeNr          object\n",
       "Niederlassung    object\n",
       "dtype: object"
      ]
     },
     "execution_count": 18,
     "metadata": {},
     "output_type": "execute_result"
    }
   ],
   "source": [
    "df_geo.dtypes"
   ]
  },
  {
   "cell_type": "code",
   "execution_count": 19,
   "id": "d9855011-f343-4e2b-9027-ce6862e78700",
   "metadata": {},
   "outputs": [
    {
     "data": {
      "text/html": [
       "<div>\n",
       "<style scoped>\n",
       "    .dataframe tbody tr th:only-of-type {\n",
       "        vertical-align: middle;\n",
       "    }\n",
       "\n",
       "    .dataframe tbody tr th {\n",
       "        vertical-align: top;\n",
       "    }\n",
       "\n",
       "    .dataframe thead th {\n",
       "        text-align: right;\n",
       "    }\n",
       "</style>\n",
       "<table border=\"1\" class=\"dataframe\">\n",
       "  <thead>\n",
       "    <tr style=\"text-align: right;\">\n",
       "      <th></th>\n",
       "      <th>KundeNr</th>\n",
       "      <th>Niederlassung</th>\n",
       "    </tr>\n",
       "  </thead>\n",
       "  <tbody>\n",
       "    <tr>\n",
       "      <th>0</th>\n",
       "      <td>K0001</td>\n",
       "      <td>Sachsen</td>\n",
       "    </tr>\n",
       "    <tr>\n",
       "      <th>1</th>\n",
       "      <td>K0002</td>\n",
       "      <td>Nordrhein-Westfalen</td>\n",
       "    </tr>\n",
       "    <tr>\n",
       "      <th>2</th>\n",
       "      <td>K0003</td>\n",
       "      <td>Hessen</td>\n",
       "    </tr>\n",
       "    <tr>\n",
       "      <th>3</th>\n",
       "      <td>K0004</td>\n",
       "      <td>Bayern</td>\n",
       "    </tr>\n",
       "    <tr>\n",
       "      <th>4</th>\n",
       "      <td>K0005</td>\n",
       "      <td>Bayern</td>\n",
       "    </tr>\n",
       "  </tbody>\n",
       "</table>\n",
       "</div>"
      ],
      "text/plain": [
       "  KundeNr        Niederlassung\n",
       "0   K0001              Sachsen\n",
       "1   K0002  Nordrhein-Westfalen\n",
       "2   K0003               Hessen\n",
       "3   K0004               Bayern\n",
       "4   K0005               Bayern"
      ]
     },
     "execution_count": 19,
     "metadata": {},
     "output_type": "execute_result"
    }
   ],
   "source": [
    "df_geo.head(5)"
   ]
  },
  {
   "cell_type": "code",
   "execution_count": 20,
   "id": "020714ab-e025-42f0-9323-31cd98d40f40",
   "metadata": {},
   "outputs": [
    {
     "data": {
      "text/plain": [
       "Alter           int64\n",
       "Einkommen     float64\n",
       "Preis         float64\n",
       "Geschlecht      int64\n",
       "Zeit          float64\n",
       "KundeNr        object\n",
       "dtype: object"
      ]
     },
     "execution_count": 20,
     "metadata": {},
     "output_type": "execute_result"
    }
   ],
   "source": [
    "df_kunden.dtypes"
   ]
  },
  {
   "cell_type": "code",
   "execution_count": 21,
   "id": "6344fbde-0ac1-444e-971e-52e99c9eb7b0",
   "metadata": {},
   "outputs": [
    {
     "data": {
      "text/html": [
       "<div>\n",
       "<style scoped>\n",
       "    .dataframe tbody tr th:only-of-type {\n",
       "        vertical-align: middle;\n",
       "    }\n",
       "\n",
       "    .dataframe tbody tr th {\n",
       "        vertical-align: top;\n",
       "    }\n",
       "\n",
       "    .dataframe thead th {\n",
       "        text-align: right;\n",
       "    }\n",
       "</style>\n",
       "<table border=\"1\" class=\"dataframe\">\n",
       "  <thead>\n",
       "    <tr style=\"text-align: right;\">\n",
       "      <th></th>\n",
       "      <th>Alter</th>\n",
       "      <th>Einkommen</th>\n",
       "      <th>Preis</th>\n",
       "      <th>Geschlecht</th>\n",
       "      <th>Zeit</th>\n",
       "      <th>KundeNr</th>\n",
       "    </tr>\n",
       "  </thead>\n",
       "  <tbody>\n",
       "    <tr>\n",
       "      <th>0</th>\n",
       "      <td>64</td>\n",
       "      <td>66894.0</td>\n",
       "      <td>88160.31</td>\n",
       "      <td>1</td>\n",
       "      <td>43.0</td>\n",
       "      <td>K0310</td>\n",
       "    </tr>\n",
       "    <tr>\n",
       "      <th>1</th>\n",
       "      <td>54</td>\n",
       "      <td>77644.0</td>\n",
       "      <td>103145.70</td>\n",
       "      <td>1</td>\n",
       "      <td>40.0</td>\n",
       "      <td>K1042</td>\n",
       "    </tr>\n",
       "    <tr>\n",
       "      <th>2</th>\n",
       "      <td>55</td>\n",
       "      <td>44341.0</td>\n",
       "      <td>80565.16</td>\n",
       "      <td>0</td>\n",
       "      <td>37.0</td>\n",
       "      <td>K0382</td>\n",
       "    </tr>\n",
       "    <tr>\n",
       "      <th>3</th>\n",
       "      <td>49</td>\n",
       "      <td>67271.0</td>\n",
       "      <td>83949.89</td>\n",
       "      <td>0</td>\n",
       "      <td>42.0</td>\n",
       "      <td>K0498</td>\n",
       "    </tr>\n",
       "    <tr>\n",
       "      <th>4</th>\n",
       "      <td>46</td>\n",
       "      <td>49832.0</td>\n",
       "      <td>93781.58</td>\n",
       "      <td>0</td>\n",
       "      <td>41.0</td>\n",
       "      <td>K0552</td>\n",
       "    </tr>\n",
       "  </tbody>\n",
       "</table>\n",
       "</div>"
      ],
      "text/plain": [
       "   Alter  Einkommen      Preis  Geschlecht  Zeit KundeNr\n",
       "0     64    66894.0   88160.31           1  43.0   K0310\n",
       "1     54    77644.0  103145.70           1  40.0   K1042\n",
       "2     55    44341.0   80565.16           0  37.0   K0382\n",
       "3     49    67271.0   83949.89           0  42.0   K0498\n",
       "4     46    49832.0   93781.58           0  41.0   K0552"
      ]
     },
     "execution_count": 21,
     "metadata": {},
     "output_type": "execute_result"
    }
   ],
   "source": [
    "df_kunden.head(5)"
   ]
  },
  {
   "cell_type": "code",
   "execution_count": null,
   "id": "e83e549b-f4f9-4876-9b45-6262543ec406",
   "metadata": {},
   "outputs": [],
   "source": []
  }
 ],
 "metadata": {
  "kernelspec": {
   "display_name": "Python 3 (ipykernel)",
   "language": "python",
   "name": "python3"
  },
  "language_info": {
   "codemirror_mode": {
    "name": "ipython",
    "version": 3
   },
   "file_extension": ".py",
   "mimetype": "text/x-python",
   "name": "python",
   "nbconvert_exporter": "python",
   "pygments_lexer": "ipython3",
   "version": "3.11.7"
  }
 },
 "nbformat": 4,
 "nbformat_minor": 5
}
